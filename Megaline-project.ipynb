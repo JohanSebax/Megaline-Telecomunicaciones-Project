{
 "cells": [
  {
   "cell_type": "markdown",
   "metadata": {
    "id": "3rYiDeEH0q0f"
   },
   "source": [
    "# ¿Cuál es la mejor tarifa?\n",
    "\n",
    "Trabajas como analista para el operador de telecomunicaciones Megaline. La empresa ofrece a sus clientes dos tarifas de prepago, Surf y Ultimate. El departamento comercial quiere saber cuál de las tarifas genera más ingresos para poder ajustar el presupuesto de publicidad.\n",
    "\n",
    "Vas a realizar un análisis preliminar de las tarifas basado en una selección de clientes relativamente pequeña. Tendrás los datos de 500 clientes de Megaline: quiénes son los clientes, de dónde son, qué tarifa usan, así como la cantidad de llamadas que hicieron y los mensajes de texto que enviaron en 2018. Tu trabajo es analizar el comportamiento de los clientes y determinar qué tarifa de prepago genera más ingresos."
   ]
  },
  {
   "cell_type": "markdown",
   "metadata": {
    "id": "VNddPNRQ0q0w"
   },
   "source": [
    "[Te proporcionamos algunos comentarios para orientarte mientras completas este proyecto. Pero debes asegurarte de eliminar todos los comentarios entre corchetes antes de entregar tu proyecto.]\n",
    "\n",
    "[Antes de sumergirte en el análisis de datos, explica por tu propia cuenta el propósito del proyecto y las acciones que planeas realizar.]\n",
    "\n",
    "[Ten en cuenta que estudiar, modificar y analizar datos es un proceso iterativo. Es normal volver a los pasos anteriores y corregirlos/ampliarlos para permitir nuevos pasos.]"
   ]
  },
  {
   "cell_type": "markdown",
   "metadata": {
    "id": "MQi4IPy70q0y"
   },
   "source": [
    "## Inicialización"
   ]
  },
  {
   "cell_type": "code",
   "execution_count": 1,
   "metadata": {
    "id": "MtYIuBxu0q0z"
   },
   "outputs": [],
   "source": [
    "# Cargar todas las librerías\n",
    "\n",
    "import pandas as pd\n",
    "from matplotlib import pyplot as plt\n",
    "import numpy as np\n",
    "import seaborn as sns\n",
    "from math import factorial\n",
    "import math as mt\n",
    "from scipy import stats as st\n"
   ]
  },
  {
   "cell_type": "markdown",
   "metadata": {
    "id": "4ysWWC5i0q00"
   },
   "source": [
    "## Cargar datos"
   ]
  },
  {
   "cell_type": "code",
   "execution_count": 3,
   "metadata": {
    "id": "CCqPW7rS0q01"
   },
   "outputs": [],
   "source": [
    "# Carga los archivos de datos en diferentes DataFrames\n",
    "\n",
    "users = pd.read_csv(\"megaline_users.csv\")\n",
    "calls = pd.read_csv(\"megaline_calls.csv\")\n",
    "messages = pd.read_csv(\"megaline_messages.csv\")\n",
    "internet = pd.read_csv(\"megaline_internet.csv\")\n",
    "plans = pd.read_csv(\"megaline_plans.csv\")\n",
    "\n"
   ]
  },
  {
   "cell_type": "markdown",
   "metadata": {
    "id": "69qqoJ3r0q01"
   },
   "source": [
    "## Preparar los datos"
   ]
  },
  {
   "cell_type": "markdown",
   "metadata": {
    "id": "vUuZw80S0q01"
   },
   "source": [
    "[Los datos para este proyecto se dividen en varias tablas. Explora cada una para tener una comprensión inicial de los datos. Si es necesario, haz las correcciones requeridas en cada tabla.]"
   ]
  },
  {
   "cell_type": "markdown",
   "metadata": {
    "id": "ohBhimvH0q01"
   },
   "source": [
    "## Tarifas"
   ]
  },
  {
   "cell_type": "code",
   "execution_count": 4,
   "metadata": {
    "id": "GptqP3Q40q02"
   },
   "outputs": [
    {
     "name": "stdout",
     "output_type": "stream",
     "text": [
      "   messages_included  mb_per_month_included  minutes_included  \\\n",
      "0                 50                  15360               500   \n",
      "1               1000                  30720              3000   \n",
      "\n",
      "   usd_monthly_pay  usd_per_gb  usd_per_message  usd_per_minute plan_name  \n",
      "0               20          10             0.03            0.03      surf  \n",
      "1               70           7             0.01            0.01  ultimate  \n"
     ]
    }
   ],
   "source": [
    "# Imprime la información general/resumida sobre el DataFrame de las tarifas\n",
    "\n",
    "print(plans.head())"
   ]
  },
  {
   "cell_type": "code",
   "execution_count": 5,
   "metadata": {
    "id": "64xzjwL70q02"
   },
   "outputs": [
    {
     "name": "stdout",
     "output_type": "stream",
     "text": [
      "<class 'pandas.core.frame.DataFrame'>\n",
      "RangeIndex: 2 entries, 0 to 1\n",
      "Data columns (total 8 columns):\n",
      " #   Column                 Non-Null Count  Dtype  \n",
      "---  ------                 --------------  -----  \n",
      " 0   messages_included      2 non-null      int64  \n",
      " 1   mb_per_month_included  2 non-null      int64  \n",
      " 2   minutes_included       2 non-null      int64  \n",
      " 3   usd_monthly_pay        2 non-null      int64  \n",
      " 4   usd_per_gb             2 non-null      int64  \n",
      " 5   usd_per_message        2 non-null      float64\n",
      " 6   usd_per_minute         2 non-null      float64\n",
      " 7   plan_name              2 non-null      object \n",
      "dtypes: float64(2), int64(5), object(1)\n",
      "memory usage: 260.0+ bytes\n"
     ]
    }
   ],
   "source": [
    "# Imprime una muestra de los datos para las tarifas\n",
    "\n",
    "plans.info(show_counts=True)"
   ]
  },
  {
   "cell_type": "markdown",
   "metadata": {
    "id": "mEc_3_hs0q02"
   },
   "source": [
    "[Describe lo que ves y observas en la información general y en la muestra de datos impresa para el precio de datos anterior. ¿Hay algún problema (tipos de datos no adecuados, datos ausentes, etc.) que pudieran necesitar investigación y cambios adicionales? ¿Cómo se puede arreglar?]"
   ]
  },
  {
   "cell_type": "markdown",
   "metadata": {},
   "source": [
    "Por ahora no hay valores ausentes, pero algunas columnas requieren correcciones en el tipo de datos y transformaciones. La columna mb_per_month_included y usd_monthly_pay hay que convertirla a tipo flotante ya que los mb es una variable continua igual que dolares y la columna mb_per_month_included despues pasarla a gb para poder hacer calculos, pero este tipo de cambios los podemos hacer mas adelante."
   ]
  },
  {
   "cell_type": "markdown",
   "metadata": {
    "id": "R3C05i1l0q03"
   },
   "source": [
    "## Corregir datos"
   ]
  },
  {
   "cell_type": "markdown",
   "metadata": {
    "id": "bIi8StZI0q03"
   },
   "source": [
    "[Corrige los problemas obvios con los datos basándote en las observaciones iniciales.]"
   ]
  },
  {
   "cell_type": "code",
   "execution_count": 6,
   "metadata": {
    "id": "Y7SVmjGn0q03"
   },
   "outputs": [
    {
     "name": "stdout",
     "output_type": "stream",
     "text": [
      "<class 'pandas.core.frame.DataFrame'>\n",
      "RangeIndex: 2 entries, 0 to 1\n",
      "Data columns (total 8 columns):\n",
      " #   Column                 Non-Null Count  Dtype  \n",
      "---  ------                 --------------  -----  \n",
      " 0   messages_included      2 non-null      int64  \n",
      " 1   mb_per_month_included  2 non-null      int64  \n",
      " 2   minutes_included       2 non-null      int64  \n",
      " 3   usd_monthly_pay        2 non-null      float64\n",
      " 4   usd_per_gb             2 non-null      int64  \n",
      " 5   usd_per_message        2 non-null      float64\n",
      " 6   usd_per_minute         2 non-null      float64\n",
      " 7   plan_name              2 non-null      object \n",
      "dtypes: float64(3), int64(4), object(1)\n",
      "memory usage: 260.0+ bytes\n"
     ]
    }
   ],
   "source": [
    "# Convertimos la columna usd_monthly_pay a flotante con astype()\n",
    "\n",
    "plans[\"usd_monthly_pay\"] = plans[\"usd_monthly_pay\"].astype(\"float\")\n",
    "plans.info(show_counts=True)"
   ]
  },
  {
   "cell_type": "markdown",
   "metadata": {
    "id": "LJir7bml0q03"
   },
   "source": [
    "## Enriquecer los datos"
   ]
  },
  {
   "cell_type": "markdown",
   "metadata": {
    "id": "eqADpCfg0q04"
   },
   "source": [
    "[Agrega factores adicionales a los datos si crees que pudieran ser útiles.]"
   ]
  },
  {
   "cell_type": "code",
   "execution_count": 7,
   "metadata": {
    "id": "gfcIEuXV0q04"
   },
   "outputs": [
    {
     "name": "stdout",
     "output_type": "stream",
     "text": [
      "<class 'pandas.core.frame.DataFrame'>\n",
      "RangeIndex: 2 entries, 0 to 1\n",
      "Data columns (total 8 columns):\n",
      " #   Column                 Non-Null Count  Dtype  \n",
      "---  ------                 --------------  -----  \n",
      " 0   messages_included      2 non-null      int64  \n",
      " 1   mb_per_month_included  2 non-null      float64\n",
      " 2   minutes_included       2 non-null      int64  \n",
      " 3   usd_monthly_pay        2 non-null      float64\n",
      " 4   usd_per_gb             2 non-null      int64  \n",
      " 5   usd_per_message        2 non-null      float64\n",
      " 6   usd_per_minute         2 non-null      float64\n",
      " 7   plan_name              2 non-null      object \n",
      "dtypes: float64(4), int64(3), object(1)\n",
      "memory usage: 260.0+ bytes\n"
     ]
    }
   ],
   "source": [
    "# Convertimos la columna mb_per_month_included a flotante con astype()\n",
    "\n",
    "plans[\"mb_per_month_included\"] = plans[\"mb_per_month_included\"].astype(\"float\")\n",
    "plans.info(show_counts=True)"
   ]
  },
  {
   "cell_type": "markdown",
   "metadata": {
    "id": "1n2X6WXf0q04"
   },
   "source": [
    "## Usuarios/as"
   ]
  },
  {
   "cell_type": "code",
   "execution_count": 8,
   "metadata": {
    "id": "2NgjWFqx0q05"
   },
   "outputs": [
    {
     "name": "stdout",
     "output_type": "stream",
     "text": [
      "     user_id first_name   last_name  age  \\\n",
      "0       1000   Anamaria       Bauer   45   \n",
      "1       1001     Mickey   Wilkerson   28   \n",
      "2       1002     Carlee     Hoffman   36   \n",
      "3       1003   Reynaldo     Jenkins   52   \n",
      "4       1004    Leonila    Thompson   40   \n",
      "..       ...        ...         ...  ...   \n",
      "495     1495      Fidel      Sharpe   67   \n",
      "496     1496      Ariel    Shepherd   49   \n",
      "497     1497      Donte     Barrera   49   \n",
      "498     1498       Scot  Williamson   51   \n",
      "499     1499      Shena     Dickson   37   \n",
      "\n",
      "                                          city    reg_date      plan  \\\n",
      "0        Atlanta-Sandy Springs-Roswell, GA MSA  2018-12-24  ultimate   \n",
      "1              Seattle-Tacoma-Bellevue, WA MSA  2018-08-13      surf   \n",
      "2         Las Vegas-Henderson-Paradise, NV MSA  2018-10-21      surf   \n",
      "3                                Tulsa, OK MSA  2018-01-28      surf   \n",
      "4              Seattle-Tacoma-Bellevue, WA MSA  2018-05-23      surf   \n",
      "..                                         ...         ...       ...   \n",
      "495  New York-Newark-Jersey City, NY-NJ-PA MSA  2018-09-04      surf   \n",
      "496               New Orleans-Metairie, LA MSA  2018-02-20      surf   \n",
      "497     Los Angeles-Long Beach-Anaheim, CA MSA  2018-12-10  ultimate   \n",
      "498  New York-Newark-Jersey City, NY-NJ-PA MSA  2018-02-04      surf   \n",
      "499          Orlando-Kissimmee-Sanford, FL MSA  2018-05-06      surf   \n",
      "\n",
      "    churn_date  \n",
      "0          NaN  \n",
      "1          NaN  \n",
      "2          NaN  \n",
      "3          NaN  \n",
      "4          NaN  \n",
      "..         ...  \n",
      "495        NaN  \n",
      "496        NaN  \n",
      "497        NaN  \n",
      "498        NaN  \n",
      "499        NaN  \n",
      "\n",
      "[500 rows x 8 columns]\n",
      "\n",
      "     user_id first_name last_name  age                                 city  \\\n",
      "238     1238  Jackeline      Byrd   42  Dallas-Fort Worth-Arlington, TX MSA   \n",
      "484     1484     Delpha   Baldwin   46  Dallas-Fort Worth-Arlington, TX MSA   \n",
      "415     1415    Rosette    Mendez   56   Boston-Cambridge-Newton, MA-NH MSA   \n",
      "493     1493     Cicely      Wynn   18   Boston-Cambridge-Newton, MA-NH MSA   \n",
      "32      1032     Delila    Dalton   59            Birmingham-Hoover, AL MSA   \n",
      "\n",
      "       reg_date      plan churn_date  \n",
      "238  2018-06-16      surf        NaN  \n",
      "484  2018-11-29      surf        NaN  \n",
      "415  2018-02-27      surf        NaN  \n",
      "493  2018-03-06  ultimate        NaN  \n",
      "32   2018-06-07  ultimate        NaN  \n"
     ]
    }
   ],
   "source": [
    "# Imprime la información general/resumida sobre el DataFrame de usuarios\n",
    "\n",
    "print(users)\n",
    "print()\n",
    "print(users.sample(5))"
   ]
  },
  {
   "cell_type": "code",
   "execution_count": 9,
   "metadata": {
    "id": "1IN1L9uh0q05"
   },
   "outputs": [
    {
     "name": "stdout",
     "output_type": "stream",
     "text": [
      "   user_id first_name  last_name  age                                   city  \\\n",
      "0     1000   Anamaria      Bauer   45  Atlanta-Sandy Springs-Roswell, GA MSA   \n",
      "1     1001     Mickey  Wilkerson   28        Seattle-Tacoma-Bellevue, WA MSA   \n",
      "2     1002     Carlee    Hoffman   36   Las Vegas-Henderson-Paradise, NV MSA   \n",
      "3     1003   Reynaldo    Jenkins   52                          Tulsa, OK MSA   \n",
      "4     1004    Leonila   Thompson   40        Seattle-Tacoma-Bellevue, WA MSA   \n",
      "\n",
      "     reg_date      plan churn_date  \n",
      "0  2018-12-24  ultimate        NaN  \n",
      "1  2018-08-13      surf        NaN  \n",
      "2  2018-10-21      surf        NaN  \n",
      "3  2018-01-28      surf        NaN  \n",
      "4  2018-05-23      surf        NaN  \n",
      "\n",
      "<class 'pandas.core.frame.DataFrame'>\n",
      "RangeIndex: 500 entries, 0 to 499\n",
      "Data columns (total 8 columns):\n",
      " #   Column      Non-Null Count  Dtype \n",
      "---  ------      --------------  ----- \n",
      " 0   user_id     500 non-null    int64 \n",
      " 1   first_name  500 non-null    object\n",
      " 2   last_name   500 non-null    object\n",
      " 3   age         500 non-null    int64 \n",
      " 4   city        500 non-null    object\n",
      " 5   reg_date    500 non-null    object\n",
      " 6   plan        500 non-null    object\n",
      " 7   churn_date  34 non-null     object\n",
      "dtypes: int64(2), object(6)\n",
      "memory usage: 31.4+ KB\n"
     ]
    }
   ],
   "source": [
    "# Imprime una muestra de datos para usuarios\n",
    "\n",
    "print(users.head())\n",
    "print()\n",
    "users.info()\n"
   ]
  },
  {
   "cell_type": "markdown",
   "metadata": {
    "id": "dCZoUq4f0q06"
   },
   "source": [
    "[Describe lo que ves y observas en la información general y en la muestra de datos impresa para el precio de datos anterior. ¿Hay algún problema (tipos de datos no adecuados, datos ausentes, etc.) que pudieran necesitar investigación y cambios adicionales? ¿Cómo se puede arreglar?]"
   ]
  },
  {
   "cell_type": "markdown",
   "metadata": {},
   "source": [
    "Aqui tenemos valores ausentes en la columna churn_date, en este caso podemos reemplazar los valores ausentes con un nombre unico. Los nombres y las ciudades tienen combinaciones de Mayusculas y Minisculas, en este caso deberiamos tener todos las variables categoricas en Minisculas o Mayusculas para que todo el dataset sea uniforme. Aqui podemos hacer que todas los nombres y las ciudades esten en Minisculas para conservar uniformidad en el dataframe y sea mas facil identificarlos."
   ]
  },
  {
   "cell_type": "markdown",
   "metadata": {
    "id": "BX5FQh_I0q06"
   },
   "source": [
    "### Corregir los datos"
   ]
  },
  {
   "cell_type": "markdown",
   "metadata": {
    "id": "8OdKMwJv0q06"
   },
   "source": [
    "[Corrige los problemas obvios con los datos basándote en las observaciones iniciales.]"
   ]
  },
  {
   "cell_type": "code",
   "execution_count": 10,
   "metadata": {
    "id": "yUqX-K0C0q07"
   },
   "outputs": [
    {
     "name": "stdout",
     "output_type": "stream",
     "text": [
      "user_id         0\n",
      "first_name      0\n",
      "last_name       0\n",
      "age             0\n",
      "city            0\n",
      "reg_date        0\n",
      "plan            0\n",
      "churn_date    466\n",
      "dtype: int64\n"
     ]
    }
   ],
   "source": [
    "# Comprobamos si hay valores ausentes\n",
    "\n",
    "print(users.isna().sum())"
   ]
  },
  {
   "cell_type": "code",
   "execution_count": 11,
   "metadata": {},
   "outputs": [
    {
     "name": "stdout",
     "output_type": "stream",
     "text": [
      "0\n"
     ]
    }
   ],
   "source": [
    "# Comprobamos duplicados\n",
    "\n",
    "print(users.duplicated().sum())"
   ]
  },
  {
   "cell_type": "code",
   "execution_count": 12,
   "metadata": {},
   "outputs": [
    {
     "name": "stdout",
     "output_type": "stream",
     "text": [
      "churn_date\n",
      "NaN           466\n",
      "2018-12-18      3\n",
      "2018-12-31      2\n",
      "2018-11-14      2\n",
      "2018-12-19      2\n",
      "2018-12-15      1\n",
      "2018-11-18      1\n",
      "2018-09-17      1\n",
      "2018-12-10      1\n",
      "2018-08-19      1\n",
      "2018-11-21      1\n",
      "2018-09-01      1\n",
      "2018-12-26      1\n",
      "2018-08-16      1\n",
      "2018-10-22      1\n",
      "2018-10-03      1\n",
      "2018-10-13      1\n",
      "2018-07-31      1\n",
      "2018-11-30      1\n",
      "2018-12-22      1\n",
      "2018-11-29      1\n",
      "2018-12-27      1\n",
      "2018-12-12      1\n",
      "2018-11-11      1\n",
      "2018-11-24      1\n",
      "2018-10-07      1\n",
      "2018-12-30      1\n",
      "2018-09-07      1\n",
      "2018-11-16      1\n",
      "2018-09-18      1\n",
      "Name: count, dtype: int64\n"
     ]
    }
   ],
   "source": [
    "# Rectificamos cantidad de valores ausentes.\n",
    "\n",
    "print(users[\"churn_date\"].value_counts(dropna=False))"
   ]
  },
  {
   "cell_type": "code",
   "execution_count": 13,
   "metadata": {},
   "outputs": [
    {
     "name": "stdout",
     "output_type": "stream",
     "text": [
      "churn_date\n",
      "active        466\n",
      "2018-12-18      3\n",
      "2018-12-31      2\n",
      "2018-11-14      2\n",
      "2018-12-19      2\n",
      "2018-12-15      1\n",
      "2018-11-18      1\n",
      "2018-09-17      1\n",
      "2018-12-10      1\n",
      "2018-08-19      1\n",
      "2018-11-21      1\n",
      "2018-09-01      1\n",
      "2018-12-26      1\n",
      "2018-08-16      1\n",
      "2018-10-22      1\n",
      "2018-10-03      1\n",
      "2018-10-13      1\n",
      "2018-07-31      1\n",
      "2018-11-30      1\n",
      "2018-12-22      1\n",
      "2018-11-29      1\n",
      "2018-12-27      1\n",
      "2018-12-12      1\n",
      "2018-11-11      1\n",
      "2018-11-24      1\n",
      "2018-10-07      1\n",
      "2018-12-30      1\n",
      "2018-09-07      1\n",
      "2018-11-16      1\n",
      "2018-09-18      1\n",
      "Name: count, dtype: int64\n"
     ]
    }
   ],
   "source": [
    "# Decidi reemplazar los valores ausentes por active, esto significa para identificar que los usuarios \n",
    "# estan todavia activos, usamos fillna()\n",
    "\n",
    "users[\"churn_date\"] = users[\"churn_date\"].fillna(\"active\")\n",
    "print(users[\"churn_date\"].value_counts(dropna=False))"
   ]
  },
  {
   "cell_type": "code",
   "execution_count": 14,
   "metadata": {},
   "outputs": [
    {
     "name": "stdout",
     "output_type": "stream",
     "text": [
      "<class 'pandas.core.frame.DataFrame'>\n",
      "RangeIndex: 500 entries, 0 to 499\n",
      "Data columns (total 8 columns):\n",
      " #   Column      Non-Null Count  Dtype \n",
      "---  ------      --------------  ----- \n",
      " 0   user_id     500 non-null    int64 \n",
      " 1   first_name  500 non-null    object\n",
      " 2   last_name   500 non-null    object\n",
      " 3   age         500 non-null    int64 \n",
      " 4   city        500 non-null    object\n",
      " 5   reg_date    500 non-null    object\n",
      " 6   plan        500 non-null    object\n",
      " 7   churn_date  500 non-null    object\n",
      "dtypes: int64(2), object(6)\n",
      "memory usage: 31.4+ KB\n"
     ]
    }
   ],
   "source": [
    "# Mostramos el dataframe\n",
    "\n",
    "users.info(show_counts=True)"
   ]
  },
  {
   "cell_type": "markdown",
   "metadata": {
    "id": "ycwuARJp0q07"
   },
   "source": [
    "### Enriquecer los datos"
   ]
  },
  {
   "cell_type": "markdown",
   "metadata": {
    "id": "96NIh4CJ0q08"
   },
   "source": [
    "[Agrega factores adicionales a los datos si crees que pudieran ser útiles.]"
   ]
  },
  {
   "cell_type": "code",
   "execution_count": 15,
   "metadata": {
    "id": "iq0AaBS90q08"
   },
   "outputs": [
    {
     "name": "stdout",
     "output_type": "stream",
     "text": [
      "  first_name  last_name                                   city\n",
      "0   anamaria      bauer  atlanta-sandy springs-roswell, ga msa\n",
      "1     mickey  wilkerson        seattle-tacoma-bellevue, wa msa\n",
      "2     carlee    hoffman   las vegas-henderson-paradise, nv msa\n",
      "3   reynaldo    jenkins                          tulsa, ok msa\n",
      "4    leonila   thompson        seattle-tacoma-bellevue, wa msa\n"
     ]
    }
   ],
   "source": [
    "# Pasamos todo a minisculas \n",
    "\n",
    "users[\"first_name\"] = users[\"first_name\"].str.lower()\n",
    "users[\"last_name\"] = users[\"last_name\"].str.lower()\n",
    "users[\"city\"] = users[\"city\"].str.lower()\n",
    "print(users[[\"first_name\",\"last_name\",\"city\"]].head())"
   ]
  },
  {
   "cell_type": "code",
   "execution_count": 16,
   "metadata": {},
   "outputs": [
    {
     "name": "stdout",
     "output_type": "stream",
     "text": [
      "0   2018-12-24\n",
      "1   2018-08-13\n",
      "2   2018-10-21\n",
      "3   2018-01-28\n",
      "4   2018-05-23\n",
      "Name: reg_date, dtype: datetime64[ns]\n"
     ]
    }
   ],
   "source": [
    "# Pasamos las fechas a datetime \n",
    "\n",
    "users[\"reg_date\"] = pd.to_datetime(users[\"reg_date\"])\n",
    "print(users[\"reg_date\"].head())"
   ]
  },
  {
   "cell_type": "code",
   "execution_count": 19,
   "metadata": {},
   "outputs": [
    {
     "name": "stdout",
     "output_type": "stream",
     "text": [
      "<class 'pandas.core.frame.DataFrame'>\n",
      "RangeIndex: 500 entries, 0 to 499\n",
      "Data columns (total 8 columns):\n",
      " #   Column      Non-Null Count  Dtype         \n",
      "---  ------      --------------  -----         \n",
      " 0   user_id     500 non-null    int64         \n",
      " 1   first_name  500 non-null    object        \n",
      " 2   last_name   500 non-null    object        \n",
      " 3   age         500 non-null    int64         \n",
      " 4   city        500 non-null    object        \n",
      " 5   reg_date    500 non-null    datetime64[ns]\n",
      " 6   plan        500 non-null    object        \n",
      " 7   churn_date  500 non-null    object        \n",
      "dtypes: datetime64[ns](1), int64(2), object(5)\n",
      "memory usage: 31.4+ KB\n"
     ]
    }
   ],
   "source": [
    "users.info(show_counts=True)"
   ]
  },
  {
   "cell_type": "markdown",
   "metadata": {
    "id": "o7MeKCid0q08"
   },
   "source": [
    "## Llamadas"
   ]
  },
  {
   "cell_type": "code",
   "execution_count": 20,
   "metadata": {
    "id": "6dDlnoDm0q08"
   },
   "outputs": [
    {
     "name": "stdout",
     "output_type": "stream",
     "text": [
      "              id  user_id   call_date  duration\n",
      "0        1000_93     1000  2018-12-27      8.52\n",
      "1       1000_145     1000  2018-12-27     13.66\n",
      "2       1000_247     1000  2018-12-27     14.48\n",
      "3       1000_309     1000  2018-12-28      5.76\n",
      "4       1000_380     1000  2018-12-30      4.22\n",
      "...          ...      ...         ...       ...\n",
      "137730  1499_199     1499  2018-11-21      8.72\n",
      "137731  1499_200     1499  2018-10-20     10.89\n",
      "137732  1499_201     1499  2018-09-21      8.12\n",
      "137733  1499_202     1499  2018-10-10      0.37\n",
      "137734  1499_203     1499  2018-12-29     13.86\n",
      "\n",
      "[137735 rows x 4 columns]\n",
      "\n",
      "              id  user_id   call_date  duration\n",
      "43892   1159_488     1159  2018-10-18      4.93\n",
      "22093    1082_21     1082  2018-11-26     11.26\n",
      "34890   1132_199     1132  2018-04-20      4.88\n",
      "115815   1406_41     1406  2018-05-16      0.00\n",
      "48257   1174_234     1174  2018-06-01      6.18\n"
     ]
    }
   ],
   "source": [
    "# Imprime la información general/resumida sobre el DataFrame de las llamadas\n",
    "\n",
    "print(calls)\n",
    "print()\n",
    "print(calls.sample(5))"
   ]
  },
  {
   "cell_type": "code",
   "execution_count": 21,
   "metadata": {
    "id": "kuh1vlNB0q09"
   },
   "outputs": [
    {
     "name": "stdout",
     "output_type": "stream",
     "text": [
      "         id  user_id   call_date  duration\n",
      "0   1000_93     1000  2018-12-27      8.52\n",
      "1  1000_145     1000  2018-12-27     13.66\n",
      "2  1000_247     1000  2018-12-27     14.48\n",
      "3  1000_309     1000  2018-12-28      5.76\n",
      "4  1000_380     1000  2018-12-30      4.22\n",
      "\n",
      "<class 'pandas.core.frame.DataFrame'>\n",
      "RangeIndex: 137735 entries, 0 to 137734\n",
      "Data columns (total 4 columns):\n",
      " #   Column     Non-Null Count   Dtype  \n",
      "---  ------     --------------   -----  \n",
      " 0   id         137735 non-null  object \n",
      " 1   user_id    137735 non-null  int64  \n",
      " 2   call_date  137735 non-null  object \n",
      " 3   duration   137735 non-null  float64\n",
      "dtypes: float64(1), int64(1), object(2)\n",
      "memory usage: 4.2+ MB\n"
     ]
    }
   ],
   "source": [
    "# Imprime una muestra de datos para las llamadas\n",
    "\n",
    "print(calls.head())\n",
    "print()\n",
    "calls.info()"
   ]
  },
  {
   "cell_type": "markdown",
   "metadata": {
    "id": "DOAxYJSx0q09"
   },
   "source": [
    "[Describe lo que ves y observas en la información general y en la muestra de datos impresa para el precio de datos anterior. ¿Hay algún problema (tipos de datos no adecuados, datos ausentes, etc.) que pudieran necesitar investigación y cambios adicionales? ¿Cómo se puede arreglar?]"
   ]
  },
  {
   "cell_type": "markdown",
   "metadata": {},
   "source": [
    "En este caso tenemos que pasar la columna call_date al formato datetime en caso de que la necesitamos para filtrar o hacer calculos con ella mas adelante."
   ]
  },
  {
   "cell_type": "markdown",
   "metadata": {
    "id": "S7hzxmbX0q0-"
   },
   "source": [
    "### Corregir los datos"
   ]
  },
  {
   "cell_type": "markdown",
   "metadata": {
    "id": "YxWyAjD20q0-"
   },
   "source": [
    "[Corrige los problemas obvios con los datos basándote en las observaciones iniciales.]"
   ]
  },
  {
   "cell_type": "code",
   "execution_count": 22,
   "metadata": {
    "id": "S2r8xA4f0q0-"
   },
   "outputs": [
    {
     "name": "stdout",
     "output_type": "stream",
     "text": [
      "id           0\n",
      "user_id      0\n",
      "call_date    0\n",
      "duration     0\n",
      "dtype: int64\n"
     ]
    }
   ],
   "source": [
    "print(calls.isna().sum())"
   ]
  },
  {
   "cell_type": "code",
   "execution_count": 23,
   "metadata": {},
   "outputs": [
    {
     "name": "stdout",
     "output_type": "stream",
     "text": [
      "0\n"
     ]
    }
   ],
   "source": [
    "print(calls.duplicated().sum())"
   ]
  },
  {
   "cell_type": "code",
   "execution_count": 24,
   "metadata": {},
   "outputs": [
    {
     "name": "stdout",
     "output_type": "stream",
     "text": [
      "['1000_93' '1000_145' '1000_247' ... '1499_201' '1499_202' '1499_203']\n",
      "29145    1110_196\n",
      "79995     1287_44\n",
      "29105    1110_156\n",
      "85426    1313_406\n",
      "76239    1270_125\n",
      "Name: id, dtype: object\n"
     ]
    }
   ],
   "source": [
    "print(calls[\"id\"].unique())\n",
    "print(calls[\"id\"].sample(5))"
   ]
  },
  {
   "cell_type": "code",
   "execution_count": 25,
   "metadata": {
    "scrolled": true
   },
   "outputs": [
    {
     "data": {
      "text/plain": [
       "6"
      ]
     },
     "execution_count": 25,
     "metadata": {},
     "output_type": "execute_result"
    }
   ],
   "source": [
    "pd.get_option(\"display.precision\")"
   ]
  },
  {
   "cell_type": "code",
   "execution_count": 26,
   "metadata": {},
   "outputs": [
    {
     "name": "stdout",
     "output_type": "stream",
     "text": [
      "<class 'pandas.core.frame.DataFrame'>\n",
      "RangeIndex: 137735 entries, 0 to 137734\n",
      "Data columns (total 4 columns):\n",
      " #   Column     Non-Null Count   Dtype  \n",
      "---  ------     --------------   -----  \n",
      " 0   id         137735 non-null  object \n",
      " 1   user_id    137735 non-null  int64  \n",
      " 2   call_date  137735 non-null  object \n",
      " 3   duration   137735 non-null  float64\n",
      "dtypes: float64(1), int64(1), object(2)\n",
      "memory usage: 4.2+ MB\n"
     ]
    }
   ],
   "source": [
    "calls.info()"
   ]
  },
  {
   "cell_type": "markdown",
   "metadata": {
    "id": "KrMgTrlG0q0_"
   },
   "source": [
    "### Enriquecer los datos"
   ]
  },
  {
   "cell_type": "markdown",
   "metadata": {
    "id": "a9MbmEvE0q0_"
   },
   "source": [
    "[Agrega factores adicionales a los datos si crees que pudieran ser útiles.]"
   ]
  },
  {
   "cell_type": "code",
   "execution_count": 27,
   "metadata": {},
   "outputs": [
    {
     "name": "stdout",
     "output_type": "stream",
     "text": [
      "0   2018-12-27\n",
      "1   2018-12-27\n",
      "2   2018-12-27\n",
      "3   2018-12-28\n",
      "4   2018-12-30\n",
      "Name: call_date, dtype: datetime64[ns]\n"
     ]
    }
   ],
   "source": [
    "# Pasamos las fechas a datetime\n",
    "\n",
    "calls[\"call_date\"] = pd.to_datetime(calls[\"call_date\"])\n",
    "print(calls[\"call_date\"].head())"
   ]
  },
  {
   "cell_type": "code",
   "execution_count": 28,
   "metadata": {},
   "outputs": [
    {
     "name": "stdout",
     "output_type": "stream",
     "text": [
      "<class 'pandas.core.frame.DataFrame'>\n",
      "RangeIndex: 137735 entries, 0 to 137734\n",
      "Data columns (total 4 columns):\n",
      " #   Column     Non-Null Count   Dtype         \n",
      "---  ------     --------------   -----         \n",
      " 0   id         137735 non-null  object        \n",
      " 1   user_id    137735 non-null  int64         \n",
      " 2   call_date  137735 non-null  datetime64[ns]\n",
      " 3   duration   137735 non-null  float64       \n",
      "dtypes: datetime64[ns](1), float64(1), int64(1), object(1)\n",
      "memory usage: 4.2+ MB\n"
     ]
    }
   ],
   "source": [
    "calls.info(show_counts=True)"
   ]
  },
  {
   "cell_type": "markdown",
   "metadata": {
    "id": "mOUZSi180q0_"
   },
   "source": [
    "## Mensajes"
   ]
  },
  {
   "cell_type": "code",
   "execution_count": 29,
   "metadata": {
    "id": "R-bYJpdV0q1A"
   },
   "outputs": [
    {
     "name": "stdout",
     "output_type": "stream",
     "text": [
      "             id  user_id message_date\n",
      "0      1000_125     1000   2018-12-27\n",
      "1      1000_160     1000   2018-12-31\n",
      "2      1000_223     1000   2018-12-31\n",
      "3      1000_251     1000   2018-12-27\n",
      "4      1000_255     1000   2018-12-26\n",
      "...         ...      ...          ...\n",
      "76046  1497_526     1497   2018-12-24\n",
      "76047  1497_536     1497   2018-12-24\n",
      "76048  1497_547     1497   2018-12-31\n",
      "76049  1497_558     1497   2018-12-24\n",
      "76050  1497_613     1497   2018-12-23\n",
      "\n",
      "[76051 rows x 3 columns]\n",
      "\n",
      "             id  user_id message_date\n",
      "48603  1326_140     1326   2018-07-15\n",
      "9607   1069_920     1069   2018-11-21\n",
      "67364  1435_402     1435   2018-12-26\n",
      "9049   1066_222     1066   2018-05-09\n",
      "37362  1247_526     1247   2018-10-02\n"
     ]
    }
   ],
   "source": [
    "# Imprime la información general/resumida sobre el DataFrame de los mensajes\n",
    "\n",
    "print(messages)\n",
    "print()\n",
    "print(messages.sample(5))\n"
   ]
  },
  {
   "cell_type": "code",
   "execution_count": 30,
   "metadata": {
    "id": "mCEl2iGE0q1A"
   },
   "outputs": [
    {
     "name": "stdout",
     "output_type": "stream",
     "text": [
      "         id  user_id message_date\n",
      "0  1000_125     1000   2018-12-27\n",
      "1  1000_160     1000   2018-12-31\n",
      "2  1000_223     1000   2018-12-31\n",
      "3  1000_251     1000   2018-12-27\n",
      "4  1000_255     1000   2018-12-26\n",
      "\n",
      "<class 'pandas.core.frame.DataFrame'>\n",
      "RangeIndex: 76051 entries, 0 to 76050\n",
      "Data columns (total 3 columns):\n",
      " #   Column        Non-Null Count  Dtype \n",
      "---  ------        --------------  ----- \n",
      " 0   id            76051 non-null  object\n",
      " 1   user_id       76051 non-null  int64 \n",
      " 2   message_date  76051 non-null  object\n",
      "dtypes: int64(1), object(2)\n",
      "memory usage: 1.7+ MB\n"
     ]
    }
   ],
   "source": [
    "# Imprime una muestra de datos para los mensajes\n",
    "\n",
    "print(messages.head())\n",
    "print()\n",
    "messages.info()\n"
   ]
  },
  {
   "cell_type": "markdown",
   "metadata": {
    "id": "04xDj7KH0q1A"
   },
   "source": [
    "[Describe lo que ves y observas en la información general y en la muestra de datos impresa para el precio de datos anterior. ¿Hay algún problema (tipos de datos no adecuados, datos ausentes, etc.) que pudieran necesitar investigación y cambios adicionales? ¿Cómo se puede arreglar?]"
   ]
  },
  {
   "cell_type": "markdown",
   "metadata": {},
   "source": [
    "Aqui tenemos que convertir las fechas de la columna message_date a datetime en caso de necesitar esta informacion para hacer calculos mas adelante."
   ]
  },
  {
   "cell_type": "markdown",
   "metadata": {
    "id": "Sprfak900q1B"
   },
   "source": [
    "### Corregir los datos"
   ]
  },
  {
   "cell_type": "markdown",
   "metadata": {
    "id": "eGw7d9j10q1B"
   },
   "source": [
    "[Corrige los problemas obvios con los datos basándote en las observaciones iniciales.]"
   ]
  },
  {
   "cell_type": "code",
   "execution_count": 31,
   "metadata": {
    "id": "vsllvkoa0q1B"
   },
   "outputs": [
    {
     "name": "stdout",
     "output_type": "stream",
     "text": [
      "id              0\n",
      "user_id         0\n",
      "message_date    0\n",
      "dtype: int64\n"
     ]
    }
   ],
   "source": [
    "print(messages.isna().sum())"
   ]
  },
  {
   "cell_type": "code",
   "execution_count": 32,
   "metadata": {},
   "outputs": [
    {
     "name": "stdout",
     "output_type": "stream",
     "text": [
      "0\n"
     ]
    }
   ],
   "source": [
    "print(messages.duplicated().sum())"
   ]
  },
  {
   "cell_type": "code",
   "execution_count": 33,
   "metadata": {},
   "outputs": [
    {
     "name": "stdout",
     "output_type": "stream",
     "text": [
      "[1000 1001 1002 1003 1004 1005 1006 1007 1008 1011 1013 1014 1015 1016\n",
      " 1017 1018 1019 1020 1023 1026 1027 1028 1029 1030 1031 1032 1033 1034\n",
      " 1035 1036 1037 1038 1039 1043 1044 1045 1046 1047 1051 1052 1053 1054\n",
      " 1055 1056 1057 1058 1059 1060 1061 1062 1064 1065 1066 1067 1069 1070\n",
      " 1072 1075 1076 1077 1078 1079 1080 1081 1082 1083 1084 1086 1087 1088\n",
      " 1089 1090 1091 1092 1093 1094 1095 1096 1098 1099 1100 1101 1102 1103\n",
      " 1104 1105 1107 1110 1111 1112 1113 1114 1115 1116 1118 1119 1120 1121\n",
      " 1122 1123 1124 1125 1126 1127 1128 1130 1131 1132 1133 1134 1136 1137\n",
      " 1138 1139 1140 1141 1142 1144 1145 1146 1147 1148 1151 1154 1155 1159\n",
      " 1160 1161 1162 1163 1164 1165 1167 1168 1169 1170 1172 1173 1174 1175\n",
      " 1176 1177 1178 1179 1180 1181 1182 1183 1184 1186 1187 1188 1189 1190\n",
      " 1191 1192 1193 1194 1195 1196 1197 1198 1199 1200 1201 1203 1204 1205\n",
      " 1206 1207 1209 1211 1212 1213 1214 1215 1218 1219 1220 1221 1222 1223\n",
      " 1224 1227 1228 1229 1230 1231 1232 1234 1235 1236 1237 1240 1241 1242\n",
      " 1243 1244 1245 1246 1247 1248 1249 1250 1251 1252 1253 1254 1255 1256\n",
      " 1257 1258 1259 1260 1261 1262 1263 1264 1266 1267 1268 1270 1271 1272\n",
      " 1273 1274 1276 1278 1279 1280 1281 1283 1285 1286 1287 1289 1290 1291\n",
      " 1293 1294 1295 1296 1298 1299 1301 1302 1303 1304 1305 1308 1309 1312\n",
      " 1313 1314 1315 1316 1318 1320 1323 1324 1326 1327 1328 1329 1330 1331\n",
      " 1332 1333 1334 1335 1336 1337 1339 1340 1341 1342 1343 1344 1345 1346\n",
      " 1347 1348 1349 1350 1351 1352 1354 1355 1356 1357 1358 1361 1362 1363\n",
      " 1364 1365 1366 1369 1370 1371 1372 1373 1374 1375 1376 1377 1379 1380\n",
      " 1381 1382 1383 1384 1385 1386 1387 1388 1391 1392 1393 1394 1395 1396\n",
      " 1398 1399 1401 1404 1405 1407 1408 1409 1410 1412 1413 1414 1416 1417\n",
      " 1419 1420 1421 1422 1423 1424 1425 1428 1429 1430 1431 1432 1433 1434\n",
      " 1435 1438 1439 1440 1441 1442 1443 1444 1445 1446 1447 1448 1450 1451\n",
      " 1452 1453 1454 1455 1456 1457 1458 1460 1462 1464 1465 1466 1467 1468\n",
      " 1469 1470 1471 1472 1474 1475 1476 1477 1478 1479 1480 1481 1482 1483\n",
      " 1484 1485 1486 1487 1489 1491 1492 1494 1496 1497]\n"
     ]
    }
   ],
   "source": [
    "print(messages[\"user_id\"].unique())"
   ]
  },
  {
   "cell_type": "markdown",
   "metadata": {
    "id": "HvLid7iD0q1B"
   },
   "source": [
    "### Enriquecer los datos"
   ]
  },
  {
   "cell_type": "markdown",
   "metadata": {
    "id": "8nhPFKIe0q1C"
   },
   "source": [
    "[Agrega factores adicionales a los datos si crees que pudieran ser útiles.]"
   ]
  },
  {
   "cell_type": "code",
   "execution_count": 34,
   "metadata": {
    "id": "zYEXZac10q1C"
   },
   "outputs": [
    {
     "name": "stdout",
     "output_type": "stream",
     "text": [
      "0   2018-12-27\n",
      "1   2018-12-31\n",
      "2   2018-12-31\n",
      "3   2018-12-27\n",
      "4   2018-12-26\n",
      "Name: message_date, dtype: datetime64[ns]\n"
     ]
    }
   ],
   "source": [
    "# Pasamos las fechas a datetime\n",
    "\n",
    "messages[\"message_date\"] = pd.to_datetime(messages[\"message_date\"])\n",
    "print(messages[\"message_date\"].head())"
   ]
  },
  {
   "cell_type": "code",
   "execution_count": 35,
   "metadata": {},
   "outputs": [
    {
     "name": "stdout",
     "output_type": "stream",
     "text": [
      "<class 'pandas.core.frame.DataFrame'>\n",
      "RangeIndex: 76051 entries, 0 to 76050\n",
      "Data columns (total 3 columns):\n",
      " #   Column        Non-Null Count  Dtype         \n",
      "---  ------        --------------  -----         \n",
      " 0   id            76051 non-null  object        \n",
      " 1   user_id       76051 non-null  int64         \n",
      " 2   message_date  76051 non-null  datetime64[ns]\n",
      "dtypes: datetime64[ns](1), int64(1), object(1)\n",
      "memory usage: 1.7+ MB\n"
     ]
    }
   ],
   "source": [
    "messages.info(show_counts=True)"
   ]
  },
  {
   "cell_type": "markdown",
   "metadata": {
    "id": "bStkaxn40q1C"
   },
   "source": [
    "## Internet"
   ]
  },
  {
   "cell_type": "code",
   "execution_count": 36,
   "metadata": {
    "id": "e-Uz5qyn0q1C"
   },
   "outputs": [
    {
     "name": "stdout",
     "output_type": "stream",
     "text": [
      "              id  user_id session_date  mb_used\n",
      "0        1000_13     1000   2018-12-29    89.86\n",
      "1       1000_204     1000   2018-12-31     0.00\n",
      "2       1000_379     1000   2018-12-28   660.40\n",
      "3       1000_413     1000   2018-12-26   270.99\n",
      "4       1000_442     1000   2018-12-27   880.22\n",
      "...          ...      ...          ...      ...\n",
      "104820  1499_215     1499   2018-10-20   218.06\n",
      "104821  1499_216     1499   2018-12-30   304.72\n",
      "104822  1499_217     1499   2018-09-22   292.75\n",
      "104823  1499_218     1499   2018-12-07     0.00\n",
      "104824  1499_219     1499   2018-12-24   758.31\n",
      "\n",
      "[104825 rows x 4 columns]\n",
      "\n",
      "             id  user_id session_date  mb_used\n",
      "40206  1181_387     1181   2018-10-22   481.37\n"
     ]
    }
   ],
   "source": [
    "# Imprime la información general/resumida sobre el DataFrame de internet\n",
    "\n",
    "print(internet)\n",
    "print()\n",
    "print(internet.sample())\n"
   ]
  },
  {
   "cell_type": "code",
   "execution_count": 37,
   "metadata": {
    "id": "9r3x_XLw0q1C"
   },
   "outputs": [
    {
     "name": "stdout",
     "output_type": "stream",
     "text": [
      "         id  user_id session_date  mb_used\n",
      "0   1000_13     1000   2018-12-29    89.86\n",
      "1  1000_204     1000   2018-12-31     0.00\n",
      "2  1000_379     1000   2018-12-28   660.40\n",
      "3  1000_413     1000   2018-12-26   270.99\n",
      "4  1000_442     1000   2018-12-27   880.22\n",
      "\n",
      "<class 'pandas.core.frame.DataFrame'>\n",
      "RangeIndex: 104825 entries, 0 to 104824\n",
      "Data columns (total 4 columns):\n",
      " #   Column        Non-Null Count   Dtype  \n",
      "---  ------        --------------   -----  \n",
      " 0   id            104825 non-null  object \n",
      " 1   user_id       104825 non-null  int64  \n",
      " 2   session_date  104825 non-null  object \n",
      " 3   mb_used       104825 non-null  float64\n",
      "dtypes: float64(1), int64(1), object(2)\n",
      "memory usage: 3.2+ MB\n"
     ]
    }
   ],
   "source": [
    "# Imprime una muestra de datos para el tráfico de internet\n",
    "\n",
    "print(internet.head())\n",
    "print()\n",
    "internet.info()"
   ]
  },
  {
   "cell_type": "markdown",
   "metadata": {
    "id": "EzOG5ik30q1D"
   },
   "source": [
    "[Describe lo que ves y observas en la información general y en la muestra de datos impresa para el precio de datos anterior. ¿Hay algún problema (tipos de datos no adecuados, datos ausentes, etc.) que pudieran necesitar investigación y cambios adicionales? ¿Cómo se puede arreglar?]"
   ]
  },
  {
   "cell_type": "markdown",
   "metadata": {},
   "source": [
    "No hay valores ausentes, tenemos que pasar la columna session_date a datetime en caso de necesitarla para hacer calculos mas adelante."
   ]
  },
  {
   "cell_type": "markdown",
   "metadata": {
    "id": "yA0tkPFg0q1D"
   },
   "source": [
    "### Corregir los datos"
   ]
  },
  {
   "cell_type": "markdown",
   "metadata": {
    "id": "zlZMuIEK0q1D"
   },
   "source": [
    "[Corrige los problemas obvios con los datos basándote en las observaciones iniciales.]"
   ]
  },
  {
   "cell_type": "code",
   "execution_count": 38,
   "metadata": {
    "id": "zVeanzdd0q1E"
   },
   "outputs": [
    {
     "name": "stdout",
     "output_type": "stream",
     "text": [
      "0   2018-12-29\n",
      "1   2018-12-31\n",
      "2   2018-12-28\n",
      "3   2018-12-26\n",
      "4   2018-12-27\n",
      "Name: session_date, dtype: datetime64[ns]\n"
     ]
    }
   ],
   "source": [
    "internet[\"session_date\"] = pd.to_datetime(internet[\"session_date\"])\n",
    "print(internet[\"session_date\"].head())"
   ]
  },
  {
   "cell_type": "code",
   "execution_count": 39,
   "metadata": {},
   "outputs": [
    {
     "name": "stdout",
     "output_type": "stream",
     "text": [
      "<class 'pandas.core.frame.DataFrame'>\n",
      "RangeIndex: 104825 entries, 0 to 104824\n",
      "Data columns (total 4 columns):\n",
      " #   Column        Non-Null Count   Dtype         \n",
      "---  ------        --------------   -----         \n",
      " 0   id            104825 non-null  object        \n",
      " 1   user_id       104825 non-null  int64         \n",
      " 2   session_date  104825 non-null  datetime64[ns]\n",
      " 3   mb_used       104825 non-null  float64       \n",
      "dtypes: datetime64[ns](1), float64(1), int64(1), object(1)\n",
      "memory usage: 3.2+ MB\n"
     ]
    }
   ],
   "source": [
    "internet.info(show_counts=True)"
   ]
  },
  {
   "cell_type": "markdown",
   "metadata": {
    "id": "e8_mLF4a0q1E"
   },
   "source": [
    "### Enriquecer los datos"
   ]
  },
  {
   "cell_type": "markdown",
   "metadata": {
    "id": "xhNdn2tE0q1E"
   },
   "source": [
    "[Agrega factores adicionales a los datos si crees que pudieran ser útiles.]"
   ]
  },
  {
   "cell_type": "code",
   "execution_count": 44,
   "metadata": {
    "id": "ESiYPIEK0q1E"
   },
   "outputs": [
    {
     "data": {
      "text/plain": [
       "count    104825.000000\n",
       "mean        366.713701\n",
       "std         277.170542\n",
       "min           0.000000\n",
       "25%         136.080000\n",
       "50%         343.980000\n",
       "75%         554.610000\n",
       "max        1693.470000\n",
       "Name: mb_used, dtype: float64"
      ]
     },
     "execution_count": 44,
     "metadata": {},
     "output_type": "execute_result"
    }
   ],
   "source": [
    "internet[\"mb_used\"].describe()"
   ]
  },
  {
   "cell_type": "code",
   "execution_count": 45,
   "metadata": {},
   "outputs": [
    {
     "name": "stdout",
     "output_type": "stream",
     "text": [
      "Valor maximo de mb_used: 1693.47\n"
     ]
    }
   ],
   "source": [
    "print(\"Valor maximo de mb_used:\", internet[\"mb_used\"].max())"
   ]
  },
  {
   "cell_type": "code",
   "execution_count": 46,
   "metadata": {},
   "outputs": [
    {
     "name": "stdout",
     "output_type": "stream",
     "text": [
      "Valor minimo de mb_used: 0.0\n"
     ]
    }
   ],
   "source": [
    "print(\"Valor minimo de mb_used:\", internet[\"mb_used\"].min())"
   ]
  },
  {
   "cell_type": "markdown",
   "metadata": {
    "id": "3UA2cqIW0q1E"
   },
   "source": [
    "## Estudiar las condiciones de las tarifas"
   ]
  },
  {
   "cell_type": "markdown",
   "metadata": {
    "id": "T86Sqltq0q1F"
   },
   "source": [
    "[Es sumamente importante entender cómo funcionan las tarifas, cómo se les cobra a los usuarios en función de su plan de suscripción. Así que te sugerimos imprimir la información de la tarifa para ver una vez más sus condiciones.]"
   ]
  },
  {
   "cell_type": "code",
   "execution_count": 47,
   "metadata": {
    "id": "i409op8p0q1F"
   },
   "outputs": [
    {
     "name": "stdout",
     "output_type": "stream",
     "text": [
      "   messages_included  mb_per_month_included  minutes_included  \\\n",
      "0                 50                15360.0               500   \n",
      "1               1000                30720.0              3000   \n",
      "\n",
      "   usd_monthly_pay  usd_per_gb  usd_per_message  usd_per_minute plan_name  \n",
      "0             20.0          10             0.03            0.03      surf  \n",
      "1             70.0           7             0.01            0.01  ultimate  \n",
      "\n",
      "<class 'pandas.core.frame.DataFrame'>\n",
      "RangeIndex: 2 entries, 0 to 1\n",
      "Data columns (total 8 columns):\n",
      " #   Column                 Non-Null Count  Dtype  \n",
      "---  ------                 --------------  -----  \n",
      " 0   messages_included      2 non-null      int64  \n",
      " 1   mb_per_month_included  2 non-null      float64\n",
      " 2   minutes_included       2 non-null      int64  \n",
      " 3   usd_monthly_pay        2 non-null      float64\n",
      " 4   usd_per_gb             2 non-null      int64  \n",
      " 5   usd_per_message        2 non-null      float64\n",
      " 6   usd_per_minute         2 non-null      float64\n",
      " 7   plan_name              2 non-null      object \n",
      "dtypes: float64(4), int64(3), object(1)\n",
      "memory usage: 260.0+ bytes\n"
     ]
    }
   ],
   "source": [
    "# Imprime las condiciones de la tarifa y asegúrate de que te quedan claras\n",
    "\n",
    "print(plans)\n",
    "print()\n",
    "plans.info(show_counts=True)\n"
   ]
  },
  {
   "cell_type": "markdown",
   "metadata": {
    "id": "hMR1tP5d0q1F"
   },
   "source": [
    "## Agregar datos por usuario\n",
    "\n",
    "[Ahora que los datos están limpios, agrega los datos por usuario y por periodo para que solo haya un registro por usuario y por periodo. Esto facilitará mucho el análisis posterior.]"
   ]
  },
  {
   "cell_type": "code",
   "execution_count": 48,
   "metadata": {
    "id": "A332cedB0q1G"
   },
   "outputs": [
    {
     "name": "stdout",
     "output_type": "stream",
     "text": [
      "              id  user_id  call_date  duration  month\n",
      "125916  1445_331     1445 2018-07-19       4.0      7\n",
      "128679   1462_92     1462 2018-12-01       9.0     12\n",
      "26580   1100_137     1100 2018-08-13       4.0      8\n",
      "55770   1199_478     1199 2018-10-14       0.0     10\n",
      "54448   1196_333     1196 2018-08-27      14.0      8\n",
      "55232   1197_219     1197 2018-12-05       0.0     12\n",
      "126301  1447_166     1447 2018-11-22      16.0     11\n",
      "132094   1476_13     1476 2018-12-11       4.0     12\n",
      "83133    1301_47     1301 2018-12-21      12.0     12\n",
      "88892   1324_952     1324 2018-10-29      12.0     10\n"
     ]
    }
   ],
   "source": [
    "# Calcula el número de llamadas hechas por cada usuario al mes. Guarda el resultado.\n",
    "\n",
    "# Creamos una nueva columna llamada month extrayendo el mes especifo de la columna call_date \n",
    "# redondeamos la columna duration al entero siguiente con np.ceil\n",
    "\n",
    "calls[\"month\"] = calls[\"call_date\"].dt.month \n",
    "calls[\"duration\"] = np.ceil(calls[\"duration\"])\n",
    "print(calls.sample(10))\n"
   ]
  },
  {
   "cell_type": "code",
   "execution_count": 51,
   "metadata": {},
   "outputs": [
    {
     "name": "stdout",
     "output_type": "stream",
     "text": [
      "month  user_id\n",
      "1      1042       18\n",
      "       1077       42\n",
      "       1185       23\n",
      "       1196       42\n",
      "       1214        5\n",
      "                  ..\n",
      "12     1495       65\n",
      "       1496       40\n",
      "       1497       54\n",
      "       1498       39\n",
      "       1499       65\n",
      "Name: id, Length: 2258, dtype: int64\n"
     ]
    }
   ],
   "source": [
    "# Para agrupar los datos de interes podemos usar groupby()\n",
    "\n",
    "monthly_calls = calls.groupby([\"month\",\"user_id\"])[\"id\"].count()\n",
    "print(monthly_calls)"
   ]
  },
  {
   "cell_type": "markdown",
   "metadata": {},
   "source": [
    "<div class=\"alert alert-block alert-warning\">\n",
    "\n",
    "Si bien es correcta la forma de agrupar para sacar la duración de las llamadas por cada ususario, para proximas ocasiones puedes hacer uso de la siguiente forma:\n",
    "    \n",
    "    pivot_calls = calls.pivot_table(index=['user_id', 'month'],\n",
    "                                values=['duration'],\n",
    "                                aggfunc=['sum','count']).reset_index()\n",
    "\n",
    "</div>"
   ]
  },
  {
   "cell_type": "code",
   "execution_count": 52,
   "metadata": {},
   "outputs": [
    {
     "name": "stdout",
     "output_type": "stream",
     "text": [
      "month\n",
      "1       172\n",
      "2       774\n",
      "3      1620\n",
      "4      3442\n",
      "5      5959\n",
      "6      8221\n",
      "7     11105\n",
      "8     13590\n",
      "9     16523\n",
      "10    21064\n",
      "11    24651\n",
      "12    30614\n",
      "Name: user_id, dtype: int64\n"
     ]
    }
   ],
   "source": [
    "monthly_calls = calls.groupby(\"month\")[\"user_id\"].count()\n",
    "print(monthly_calls)"
   ]
  },
  {
   "cell_type": "code",
   "execution_count": 53,
   "metadata": {},
   "outputs": [
    {
     "name": "stdout",
     "output_type": "stream",
     "text": [
      "month     1     2     3     4     5     6     7     8     9     10    11  \\\n",
      "user_id                                                                    \n",
      "1000     0.0   0.0   0.0   0.0   0.0   0.0   0.0   0.0   0.0   0.0   0.0   \n",
      "1001     0.0   0.0   0.0   0.0   0.0   0.0   0.0  27.0  49.0  65.0  64.0   \n",
      "1002     0.0   0.0   0.0   0.0   0.0   0.0   0.0   0.0   0.0  11.0  55.0   \n",
      "1003     0.0   0.0   0.0   0.0   0.0   0.0   0.0   0.0   0.0   0.0   0.0   \n",
      "1004     0.0   0.0   0.0   0.0  21.0  44.0  49.0  49.0  42.0  61.0  54.0   \n",
      "...      ...   ...   ...   ...   ...   ...   ...   ...   ...   ...   ...   \n",
      "1495     0.0   0.0   0.0   0.0   0.0   0.0   0.0   0.0  52.0  75.0  61.0   \n",
      "1496     0.0   0.0   0.0   0.0   0.0   0.0   0.0  18.0  52.0  46.0  39.0   \n",
      "1497     0.0   0.0   0.0   0.0   0.0   0.0   0.0   0.0   0.0   0.0   0.0   \n",
      "1498     0.0  37.0  37.0  47.0  35.0  37.0  43.0  44.0  45.0  46.0  41.0   \n",
      "1499     0.0   0.0   0.0   0.0   0.0   0.0   0.0   0.0  41.0  53.0  45.0   \n",
      "\n",
      "month       12  \n",
      "user_id         \n",
      "1000      16.0  \n",
      "1001      56.0  \n",
      "1002      47.0  \n",
      "1003     149.0  \n",
      "1004      50.0  \n",
      "...        ...  \n",
      "1495      65.0  \n",
      "1496      40.0  \n",
      "1497      54.0  \n",
      "1498      39.0  \n",
      "1499      65.0  \n",
      "\n",
      "[481 rows x 12 columns]\n",
      "\n",
      "month\n",
      "1       172.0\n",
      "2       774.0\n",
      "3      1620.0\n",
      "4      3442.0\n",
      "5      5959.0\n",
      "6      8221.0\n",
      "7     11105.0\n",
      "8     13590.0\n",
      "9     16523.0\n",
      "10    21064.0\n",
      "11    24651.0\n",
      "12    30614.0\n",
      "dtype: float64\n"
     ]
    }
   ],
   "source": [
    "pivot_monthly_calls = calls.pivot_table(index=\"user_id\",\n",
    "                                        columns=\"month\",\n",
    "                                        values=\"id\",\n",
    "                                        aggfunc=\"count\"\n",
    "                                       )\n",
    "\n",
    "pivot_monthly_calls.fillna(0,inplace=True)\n",
    "\n",
    "print(pivot_monthly_calls)\n",
    "print()\n",
    "print(pivot_monthly_calls.sum())"
   ]
  },
  {
   "cell_type": "code",
   "execution_count": 54,
   "metadata": {
    "id": "aw2cmuql0q1G"
   },
   "outputs": [
    {
     "name": "stdout",
     "output_type": "stream",
     "text": [
      "month  user_id\n",
      "1      1042       114.0\n",
      "       1077       290.0\n",
      "       1185       181.0\n",
      "       1196       287.0\n",
      "       1214        16.0\n",
      "                  ...  \n",
      "12     1495       492.0\n",
      "       1496       294.0\n",
      "       1497       300.0\n",
      "       1498       339.0\n",
      "       1499       496.0\n",
      "Name: duration, Length: 2258, dtype: float64\n"
     ]
    }
   ],
   "source": [
    "# Calcula la cantidad de minutos usados por cada usuario al mes. Guarda el resultado.\n",
    "\n",
    "# Usamos groupby() y le aplicamos sum()\n",
    "\n",
    "duration_monthly = calls.groupby([\"month\",\"user_id\"])[\"duration\"].sum()\n",
    "\n",
    "print(duration_monthly)\n"
   ]
  },
  {
   "cell_type": "code",
   "execution_count": 55,
   "metadata": {
    "id": "CcQvNHn60q1G"
   },
   "outputs": [
    {
     "name": "stdout",
     "output_type": "stream",
     "text": [
      "             id  user_id message_date  month\n",
      "15221  1101_278     1101   2018-10-06     10\n",
      "71527  1466_179     1466   2018-05-19      5\n",
      "17139  1113_242     1113   2018-10-02     10\n",
      "31214   1195_81     1195   2018-12-08     12\n",
      "66199  1433_139     1433   2018-10-09     10\n",
      "70286  1456_254     1456   2018-09-01      9\n",
      "65648   1422_53     1422   2018-12-23     12\n",
      "8130   1061_136     1061   2018-11-30     11\n",
      "47238  1320_482     1320   2018-12-17     12\n",
      "29474  1181_140     1181   2018-04-26      4\n"
     ]
    }
   ],
   "source": [
    "# Calcula el número de mensajes enviados por cada usuario al mes. Guarda el resultado.\n",
    "\n",
    "# Creamos una columna nueva llamada month extrayendo el mes de la fecha.\n",
    "\n",
    "messages[\"month\"] = messages[\"message_date\"].dt.month\n",
    "print(messages.sample(10))\n",
    "\n",
    "\n"
   ]
  },
  {
   "cell_type": "code",
   "execution_count": 56,
   "metadata": {},
   "outputs": [
    {
     "name": "stdout",
     "output_type": "stream",
     "text": [
      "month  user_id\n",
      "1      1077       37\n",
      "       1196       23\n",
      "       1214        2\n",
      "       1362       21\n",
      "2      1028       12\n",
      "                  ..\n",
      "12     1491       43\n",
      "       1492       37\n",
      "       1494       33\n",
      "       1496       11\n",
      "       1497       50\n",
      "Name: id, Length: 1806, dtype: int64\n"
     ]
    }
   ],
   "source": [
    "# Agrupamos con groupby()\n",
    "\n",
    "monthly_messages = messages.groupby([\"month\",\"user_id\"])[\"id\"].count()\n",
    "print(monthly_messages)"
   ]
  },
  {
   "cell_type": "code",
   "execution_count": 57,
   "metadata": {
    "id": "H1AqN2eG0q1H"
   },
   "outputs": [
    {
     "name": "stdout",
     "output_type": "stream",
     "text": [
      "              id  user_id session_date  mb_used  month\n",
      "100616  1476_130     1476   2018-12-27   122.40     12\n",
      "71723   1334_291     1334   2018-10-05   585.28     10\n",
      "45269   1201_131     1201   2018-11-20   671.54     11\n",
      "97519    1460_53     1460   2018-10-10   727.82     10\n",
      "7050    1039_325     1039   2018-09-25   445.42      9\n",
      "50718   1226_199     1226   2018-11-14   406.05     11\n",
      "102475  1490_290     1490   2018-08-19   177.20      8\n",
      "63670   1292_374     1292   2018-08-03   285.55      8\n",
      "98826   1466_307     1466   2018-07-18     0.00      7\n",
      "48985    1219_95     1219   2018-12-12    34.59     12\n"
     ]
    }
   ],
   "source": [
    "# Calcula el volumen del tráfico de Internet usado por cada usuario al mes. Guarda el resultado.\n",
    "\n",
    "internet[\"month\"] = internet[\"session_date\"].dt.month\n",
    "print(internet.sample(10))\n",
    "\n"
   ]
  },
  {
   "cell_type": "code",
   "execution_count": 58,
   "metadata": {},
   "outputs": [
    {
     "name": "stdout",
     "output_type": "stream",
     "text": [
      "month  user_id\n",
      "1      1042        2.0\n",
      "       1077       11.0\n",
      "       1185        7.0\n",
      "       1196        9.0\n",
      "       1214        2.0\n",
      "                  ... \n",
      "12     1495       24.0\n",
      "       1496       17.0\n",
      "       1497       11.0\n",
      "       1498       23.0\n",
      "       1499       22.0\n",
      "Name: mb_used, Length: 2277, dtype: float64\n"
     ]
    }
   ],
   "source": [
    "# 1gb = 1024mb\n",
    "# Pasamos de mb a gb dividiendo entre 1024\n",
    "\n",
    "monthly_mb = internet.groupby([\"month\",\"user_id\"])[\"mb_used\"].sum()\n",
    "monthly_mb = np.ceil(monthly_mb/1024)\n",
    "print(monthly_mb)"
   ]
  },
  {
   "cell_type": "markdown",
   "metadata": {
    "id": "VDfYXnj80q1H"
   },
   "source": [
    "[Junta los datos agregados en un DataFrame para que haya un registro que represente lo que consumió un usuario único en un mes determinado.]"
   ]
  },
  {
   "cell_type": "code",
   "execution_count": 59,
   "metadata": {
    "id": "FW99ykyf0q1H"
   },
   "outputs": [
    {
     "name": "stdout",
     "output_type": "stream",
     "text": [
      "      month  user_id  duration    id  mb_used\n",
      "0         1     1042     114.0   0.0      2.0\n",
      "1         1     1077     290.0  37.0     11.0\n",
      "2         1     1185     181.0   0.0      7.0\n",
      "3         1     1196     287.0  23.0      9.0\n",
      "4         1     1214      16.0   2.0      2.0\n",
      "...     ...      ...       ...   ...      ...\n",
      "2288     12     1194       0.0  56.0     31.0\n",
      "2289     12     1204       0.0  78.0     36.0\n",
      "2290     12     1349       0.0  61.0     13.0\n",
      "2291      6     1311       0.0   0.0      2.0\n",
      "2292     12     1108       0.0   0.0      1.0\n",
      "\n",
      "[2293 rows x 5 columns]\n",
      "<class 'pandas.core.frame.DataFrame'>\n",
      "RangeIndex: 2293 entries, 0 to 2292\n",
      "Data columns (total 5 columns):\n",
      " #   Column    Non-Null Count  Dtype  \n",
      "---  ------    --------------  -----  \n",
      " 0   month     2293 non-null   int32  \n",
      " 1   user_id   2293 non-null   int64  \n",
      " 2   duration  2293 non-null   float64\n",
      " 3   id        2293 non-null   float64\n",
      " 4   mb_used   2293 non-null   float64\n",
      "dtypes: float64(3), int32(1), int64(1)\n",
      "memory usage: 80.7 KB\n"
     ]
    }
   ],
   "source": [
    "# Fusiona los datos de llamadas, minutos, mensajes e Internet con base en user_id y month\n",
    "\n",
    "# Usamos concat() para fusionar los datos.\n",
    "\n",
    "data_merge = pd.concat([duration_monthly,monthly_messages,monthly_mb],axis=\"columns\")\n",
    "data_merge = data_merge.fillna(0).reset_index()\n",
    "print(data_merge)\n",
    "data_merge.info(show_counts=True)\n"
   ]
  },
  {
   "cell_type": "code",
   "execution_count": 60,
   "metadata": {
    "id": "0dNOXHag0q1H"
   },
   "outputs": [
    {
     "name": "stdout",
     "output_type": "stream",
     "text": [
      "   messages_included  mb_per_month_included  minutes_included  \\\n",
      "0                 50                15360.0               500   \n",
      "1               1000                30720.0              3000   \n",
      "\n",
      "   usd_monthly_pay  usd_per_gb  usd_per_message  usd_per_minute plan_name  \n",
      "0             20.0          10             0.03            0.03      surf  \n",
      "1             70.0           7             0.01            0.01  ultimate  \n"
     ]
    }
   ],
   "source": [
    "# Añade la información de la tarifa\n",
    "\n",
    "print(plans)"
   ]
  },
  {
   "cell_type": "code",
   "execution_count": 61,
   "metadata": {},
   "outputs": [
    {
     "name": "stdout",
     "output_type": "stream",
     "text": [
      "      month  user_id  duration    id  mb_used  \\\n",
      "0         1     1042     114.0   0.0      2.0   \n",
      "1         1     1077     290.0  37.0     11.0   \n",
      "2         1     1185     181.0   0.0      7.0   \n",
      "3         1     1196     287.0  23.0      9.0   \n",
      "4         1     1214      16.0   2.0      2.0   \n",
      "...     ...      ...       ...   ...      ...   \n",
      "2288     12     1194       0.0  56.0     31.0   \n",
      "2289     12     1204       0.0  78.0     36.0   \n",
      "2290     12     1349       0.0  61.0     13.0   \n",
      "2291      6     1311       0.0   0.0      2.0   \n",
      "2292     12     1108       0.0   0.0      1.0   \n",
      "\n",
      "                                                 city      plan  \\\n",
      "0     philadelphia-camden-wilmington, pa-nj-de-md msa      surf   \n",
      "1               charlotte-concord-gastonia, nc-sc msa  ultimate   \n",
      "2              louisville/jefferson county, ky-in msa  ultimate   \n",
      "3              los angeles-long beach-anaheim, ca msa  ultimate   \n",
      "4              san francisco-oakland-berkeley, ca msa  ultimate   \n",
      "...                                               ...       ...   \n",
      "2288           san jose-sunnyvale-santa clara, ca msa      surf   \n",
      "2289           chicago-naperville-elgin, il-in-wi msa  ultimate   \n",
      "2290               boston-cambridge-newton, ma-nh msa      surf   \n",
      "2291                            memphis, tn-ms-ar msa  ultimate   \n",
      "2292                           salt lake city, ut msa  ultimate   \n",
      "\n",
      "      messages_included  mb_per_month_included  minutes_included  \\\n",
      "0                    50                15360.0               500   \n",
      "1                  1000                30720.0              3000   \n",
      "2                  1000                30720.0              3000   \n",
      "3                  1000                30720.0              3000   \n",
      "4                  1000                30720.0              3000   \n",
      "...                 ...                    ...               ...   \n",
      "2288                 50                15360.0               500   \n",
      "2289               1000                30720.0              3000   \n",
      "2290                 50                15360.0               500   \n",
      "2291               1000                30720.0              3000   \n",
      "2292               1000                30720.0              3000   \n",
      "\n",
      "      usd_monthly_pay  usd_per_gb  usd_per_message  usd_per_minute plan_name  \n",
      "0                20.0          10             0.03            0.03      surf  \n",
      "1                70.0           7             0.01            0.01  ultimate  \n",
      "2                70.0           7             0.01            0.01  ultimate  \n",
      "3                70.0           7             0.01            0.01  ultimate  \n",
      "4                70.0           7             0.01            0.01  ultimate  \n",
      "...               ...         ...              ...             ...       ...  \n",
      "2288             20.0          10             0.03            0.03      surf  \n",
      "2289             70.0           7             0.01            0.01  ultimate  \n",
      "2290             20.0          10             0.03            0.03      surf  \n",
      "2291             70.0           7             0.01            0.01  ultimate  \n",
      "2292             70.0           7             0.01            0.01  ultimate  \n",
      "\n",
      "[2293 rows x 15 columns]\n"
     ]
    }
   ],
   "source": [
    "# Finalmente para fusionar todos los datos en una sola tabla usamos merge() \n",
    "# tomando como referencia la columna user_id\n",
    "\n",
    "plans_calls = data_merge.merge(users[[\"user_id\",\"city\",\"plan\"]], on=\"user_id\").merge(plans,left_on=\"plan\",right_on=\"plan_name\")\n",
    "\n",
    "print(plans_calls)\n",
    "\n"
   ]
  },
  {
   "cell_type": "code",
   "execution_count": 62,
   "metadata": {},
   "outputs": [
    {
     "name": "stdout",
     "output_type": "stream",
     "text": [
      "      month  user_id  minutes  messages  gb_used  \\\n",
      "0         1     1042    114.0       0.0      2.0   \n",
      "1         1     1077    290.0      37.0     11.0   \n",
      "2         1     1185    181.0       0.0      7.0   \n",
      "3         1     1196    287.0      23.0      9.0   \n",
      "4         1     1214     16.0       2.0      2.0   \n",
      "...     ...      ...      ...       ...      ...   \n",
      "2288     12     1194      0.0      56.0     31.0   \n",
      "2289     12     1204      0.0      78.0     36.0   \n",
      "2290     12     1349      0.0      61.0     13.0   \n",
      "2291      6     1311      0.0       0.0      2.0   \n",
      "2292     12     1108      0.0       0.0      1.0   \n",
      "\n",
      "                                                 city      plan  \\\n",
      "0     philadelphia-camden-wilmington, pa-nj-de-md msa      surf   \n",
      "1               charlotte-concord-gastonia, nc-sc msa  ultimate   \n",
      "2              louisville/jefferson county, ky-in msa  ultimate   \n",
      "3              los angeles-long beach-anaheim, ca msa  ultimate   \n",
      "4              san francisco-oakland-berkeley, ca msa  ultimate   \n",
      "...                                               ...       ...   \n",
      "2288           san jose-sunnyvale-santa clara, ca msa      surf   \n",
      "2289           chicago-naperville-elgin, il-in-wi msa  ultimate   \n",
      "2290               boston-cambridge-newton, ma-nh msa      surf   \n",
      "2291                            memphis, tn-ms-ar msa  ultimate   \n",
      "2292                           salt lake city, ut msa  ultimate   \n",
      "\n",
      "      messages_included  gb_per_month_included  minutes_included  \\\n",
      "0                    50                   15.0               500   \n",
      "1                  1000                   30.0              3000   \n",
      "2                  1000                   30.0              3000   \n",
      "3                  1000                   30.0              3000   \n",
      "4                  1000                   30.0              3000   \n",
      "...                 ...                    ...               ...   \n",
      "2288                 50                   15.0               500   \n",
      "2289               1000                   30.0              3000   \n",
      "2290                 50                   15.0               500   \n",
      "2291               1000                   30.0              3000   \n",
      "2292               1000                   30.0              3000   \n",
      "\n",
      "      usd_monthly_pay  usd_per_gb  usd_per_message  usd_per_minute  \n",
      "0                20.0          10             0.03            0.03  \n",
      "1                70.0           7             0.01            0.01  \n",
      "2                70.0           7             0.01            0.01  \n",
      "3                70.0           7             0.01            0.01  \n",
      "4                70.0           7             0.01            0.01  \n",
      "...               ...         ...              ...             ...  \n",
      "2288             20.0          10             0.03            0.03  \n",
      "2289             70.0           7             0.01            0.01  \n",
      "2290             20.0          10             0.03            0.03  \n",
      "2291             70.0           7             0.01            0.01  \n",
      "2292             70.0           7             0.01            0.01  \n",
      "\n",
      "[2293 rows x 14 columns]\n"
     ]
    }
   ],
   "source": [
    "# Removemos la columna plan_name ya que esta repetida con drop()\n",
    "# Pasamos la columna mb_per_month_included a gb\n",
    "# Usamos rename() para renombrar las columnas y tener todo en las mismas unidades.\n",
    "\n",
    "plans_calls.drop(\"plan_name\", axis=\"columns\",inplace=True)\n",
    "\n",
    "plans_calls[\"mb_per_month_included\"] = np.ceil(plans_calls[\"mb_per_month_included\"] / 1024)\n",
    "\n",
    "plans_calls = plans_calls.rename(columns={\"duration\":\"minutes\",\"id\":\"messages\",\"mb_used\":\"gb_used\",\"mb_per_month_included\":\"gb_per_month_included\"})\n",
    "\n",
    "print(plans_calls)\n",
    "\n",
    "\n",
    "\n"
   ]
  },
  {
   "cell_type": "code",
   "execution_count": 63,
   "metadata": {},
   "outputs": [
    {
     "name": "stdout",
     "output_type": "stream",
     "text": [
      "<class 'pandas.core.frame.DataFrame'>\n",
      "RangeIndex: 2293 entries, 0 to 2292\n",
      "Data columns (total 14 columns):\n",
      " #   Column                 Non-Null Count  Dtype  \n",
      "---  ------                 --------------  -----  \n",
      " 0   month                  2293 non-null   int32  \n",
      " 1   user_id                2293 non-null   int64  \n",
      " 2   minutes                2293 non-null   float64\n",
      " 3   messages               2293 non-null   float64\n",
      " 4   gb_used                2293 non-null   float64\n",
      " 5   city                   2293 non-null   object \n",
      " 6   plan                   2293 non-null   object \n",
      " 7   messages_included      2293 non-null   int64  \n",
      " 8   gb_per_month_included  2293 non-null   float64\n",
      " 9   minutes_included       2293 non-null   int64  \n",
      " 10  usd_monthly_pay        2293 non-null   float64\n",
      " 11  usd_per_gb             2293 non-null   int64  \n",
      " 12  usd_per_message        2293 non-null   float64\n",
      " 13  usd_per_minute         2293 non-null   float64\n",
      "dtypes: float64(7), int32(1), int64(4), object(2)\n",
      "memory usage: 242.0+ KB\n"
     ]
    }
   ],
   "source": [
    "plans_calls.info(show_counts=True)"
   ]
  },
  {
   "cell_type": "markdown",
   "metadata": {
    "id": "1IwGo4wg0q1I"
   },
   "source": [
    "[Calcula los ingresos mensuales por usuario (resta el límite del paquete gratuito del número total de llamadas, mensajes de texto y datos; multiplica el resultado por el valor del plan de llamadas; añade la tarifa mensual en función del plan de llamadas). Nota: Dadas las condiciones del plan, ¡esto podría no ser tan trivial como un par de líneas! Así que no pasa nada si dedicas algo de tiempo a ello.]"
   ]
  },
  {
   "cell_type": "code",
   "execution_count": 64,
   "metadata": {
    "id": "5FGCf_c60q1I"
   },
   "outputs": [
    {
     "name": "stdout",
     "output_type": "stream",
     "text": [
      "      month  user_id  minutes  messages  gb_used  \\\n",
      "1186     10     1188    344.0      43.0     21.0   \n",
      "1575     11     1235    336.0      33.0     13.0   \n",
      "1836     12     1043    228.0      87.0     38.0   \n",
      "496       7     1335    454.0      99.0     19.0   \n",
      "229       5     1491    429.0      45.0      7.0   \n",
      "103       4     1312    288.0      38.0     28.0   \n",
      "2122     12     1354    544.0      44.0     19.0   \n",
      "2246     12     1488    721.0       0.0     20.0   \n",
      "1384     10     1488    740.0       0.0     23.0   \n",
      "2215     12     1452     36.0       4.0      1.0   \n",
      "\n",
      "                                             city      plan  \\\n",
      "1186                             richmond, va msa  ultimate   \n",
      "1575  minneapolis-st. paul-bloomington, mn-wi msa      surf   \n",
      "1836    new york-newark-jersey city, ny-nj-pa msa  ultimate   \n",
      "496           dallas-fort worth-arlington, tx msa      surf   \n",
      "229                 grand rapids-kentwood, mi msa      surf   \n",
      "103                                fresno, ca msa      surf   \n",
      "2122    new york-newark-jersey city, ny-nj-pa msa  ultimate   \n",
      "2246                          baton rouge, la msa      surf   \n",
      "1384                          baton rouge, la msa      surf   \n",
      "2215                               tucson, az msa      surf   \n",
      "\n",
      "      messages_included  gb_per_month_included  minutes_included  \\\n",
      "1186               1000                   30.0              3000   \n",
      "1575                 50                   15.0               500   \n",
      "1836               1000                   30.0              3000   \n",
      "496                  50                   15.0               500   \n",
      "229                  50                   15.0               500   \n",
      "103                  50                   15.0               500   \n",
      "2122               1000                   30.0              3000   \n",
      "2246                 50                   15.0               500   \n",
      "1384                 50                   15.0               500   \n",
      "2215                 50                   15.0               500   \n",
      "\n",
      "      usd_monthly_pay  usd_per_gb  usd_per_message  usd_per_minute  revenue  \n",
      "1186             70.0           7             0.01            0.01    70.00  \n",
      "1575             20.0          10             0.03            0.03    20.00  \n",
      "1836             70.0           7             0.01            0.01   126.00  \n",
      "496              20.0          10             0.03            0.03    61.47  \n",
      "229              20.0          10             0.03            0.03    20.00  \n",
      "103              20.0          10             0.03            0.03   150.00  \n",
      "2122             70.0           7             0.01            0.01    70.00  \n",
      "2246             20.0          10             0.03            0.03    76.63  \n",
      "1384             20.0          10             0.03            0.03   107.20  \n",
      "2215             20.0          10             0.03            0.03    20.00  \n"
     ]
    }
   ],
   "source": [
    "# Calcula el ingreso mensual para cada usuario\n",
    "\n",
    "# Aqui podemos crear una funcion para calcular el ingreso mensual para cada usuario en funcion de cada fila\n",
    "# Despues usamos apply() para crear una nueva columna con los resultados llamada revenue\n",
    "\n",
    "def revenue(row):\n",
    "    minutes = row[\"minutes\"]\n",
    "    messages = row[\"messages\"]\n",
    "    gb_used = row[\"gb_used\"]\n",
    "    messages_included = row[\"messages_included\"]\n",
    "    gb_per_month_included = row[\"gb_per_month_included\"]\n",
    "    minutes_included = row[\"minutes_included\"]\n",
    "    usd_monthly_pay = row[\"usd_monthly_pay\"]\n",
    "    usd_per_gb = row[\"usd_per_gb\"]\n",
    "    usd_per_message = row[\"usd_per_message\"]\n",
    "    usd_per_minute = row[\"usd_per_minute\"]\n",
    "    usd_monthly_pay = row[\"usd_monthly_pay\"]\n",
    "\n",
    "\n",
    "    messages_revenue = (messages - messages_included)* (usd_per_message)\n",
    "    minutes_revenue = (minutes - minutes_included)* (usd_per_minute)\n",
    "    gb_revenue = (gb_used - gb_per_month_included)* (usd_per_gb)\n",
    "\n",
    "    revenue_pay = usd_monthly_pay + messages_revenue + minutes_revenue + gb_revenue\n",
    "\n",
    "    if (messages_included < messages) and (minutes_included < minutes) and (gb_per_month_included < gb_used):\n",
    "        return revenue_pay\n",
    "    if (messages_included < messages) and (minutes_included < minutes):\n",
    "        return usd_monthly_pay + messages_revenue + minutes_revenue\n",
    "    if (messages_included < messages) and (gb_per_month_included < gb_used):\n",
    "        return usd_monthly_pay + messages_revenue+ gb_revenue\n",
    "    if (minutes_included < minutes) and (gb_per_month_included < gb_used):\n",
    "        return usd_monthly_pay + minutes_revenue + gb_revenue\n",
    "    if messages_included < messages:\n",
    "        return usd_monthly_pay + messages_revenue \n",
    "    if minutes_included < minutes:\n",
    "        return usd_monthly_pay + minutes_revenue\n",
    "    if gb_per_month_included < gb_used:\n",
    "        return usd_monthly_pay + gb_revenue\n",
    "    else:\n",
    "        return usd_monthly_pay    \n",
    "\n",
    "plans_calls[\"revenue\"] = plans_calls.apply(revenue, axis=1)\n",
    "\n",
    "print(plans_calls.sample(10))\n",
    "                \n",
    "                \n",
    "                \n",
    "\n"
   ]
  },
  {
   "cell_type": "markdown",
   "metadata": {
    "id": "-jtyHzJb0q1I"
   },
   "source": [
    "## Estudia el comportamiento de usuario"
   ]
  },
  {
   "cell_type": "markdown",
   "metadata": {
    "id": "AxU3Y0N70q1J"
   },
   "source": [
    "[Calcula algunas estadísticas descriptivas para los datos agregados y fusionados que nos sean útiles y que muestren un panorama general captado por los datos. Dibuja gráficos útiles para facilitar la comprensión. Dado que la tarea principal es comparar las tarifas y decidir cuál es más rentable, las estadísticas y gráficas deben calcularse por tarifa.]\n",
    "\n",
    "[En los comentarios hallarás pistas relevantes para las llamadas, pero no las hay para los mensajes e Internet. Sin embargo, el principio del estudio estadístico que se aplica para ellos es el mismo que para las llamadas.]"
   ]
  },
  {
   "cell_type": "markdown",
   "metadata": {
    "id": "vtW4CJEe0q1J"
   },
   "source": [
    "### Llamadas"
   ]
  },
  {
   "cell_type": "code",
   "execution_count": 65,
   "metadata": {
    "id": "Jf5v5--k0q1J"
   },
   "outputs": [
    {
     "name": "stdout",
     "output_type": "stream",
     "text": [
      "plan         surf    ultimate\n",
      "month                        \n",
      "1      203.000000  193.500000\n",
      "2      297.000000  403.142857\n",
      "3      330.000000  304.250000\n",
      "4      351.540000  336.857143\n",
      "5      399.584416  406.241379\n",
      "6      431.298969  370.957447\n",
      "7      449.983471  427.067797\n",
      "8      410.111111  421.436620\n",
      "9      414.226804  437.511628\n",
      "10     429.729958  450.735849\n",
      "11     423.325088  445.196850\n",
      "12     473.836478  459.099338\n"
     ]
    }
   ],
   "source": [
    "# Compara la duración promedio de llamadas por cada plan y por cada mes. Traza un gráfico de barras para visualizarla.\n",
    "\n",
    "minutes_mean = plans_calls.pivot_table(index=\"month\",columns=\"plan\",values=\"minutes\",aggfunc=\"mean\")\n",
    "\n",
    "print(minutes_mean)\n"
   ]
  },
  {
   "cell_type": "code",
   "execution_count": 66,
   "metadata": {},
   "outputs": [
    {
     "data": {
      "image/png": "[encoded data removed]",
      "text/plain": [
       "<Figure size 1000x1000 with 1 Axes>"
      ]
     },
     "metadata": {},
     "output_type": "display_data"
    }
   ],
   "source": [
    "minutes_mean.plot(kind=\"bar\", title=\"average calls duration per month\", ylabel=\"average duration\", figsize=(10,10))\n",
    "plt.show()"
   ]
  },
  {
   "cell_type": "code",
   "execution_count": 67,
   "metadata": {
    "id": "QoLqW1S_0q1J"
   },
   "outputs": [
    {
     "data": {
      "image/png": "[encoded data removed]",
      "text/plain": [
       "<Figure size 640x480 with 1 Axes>"
      ]
     },
     "metadata": {},
     "output_type": "display_data"
    }
   ],
   "source": [
    "# Compara el número de minutos mensuales que necesitan los usuarios de cada plan. Traza un histograma.\n",
    "\n",
    "plans_calls[plans_calls[\"plan\"]==\"surf\"][\"minutes\"].plot(kind=\"hist\",bins=20)\n",
    "plans_calls[plans_calls[\"plan\"]==\"ultimate\"][\"minutes\"].plot(kind=\"hist\",bins=20,alpha=0.8)\n",
    "plt.xlabel(\"minutes used\")\n",
    "plt.legend([\"surf\",\"ultimate\"])\n",
    "plt.show()\n"
   ]
  },
  {
   "cell_type": "markdown",
   "metadata": {
    "id": "bLS9T8OH0q1K"
   },
   "source": [
    "[Calcula la media y la variable de la duración de las llamadas para averiguar si los usuarios de los distintos planes se comportan de forma diferente al realizar sus llamadas.]"
   ]
  },
  {
   "cell_type": "code",
   "execution_count": 68,
   "metadata": {
    "id": "oSndbAnt0q1K"
   },
   "outputs": [
    {
     "name": "stdout",
     "output_type": "stream",
     "text": [
      "La media es igual a: 429.2834714348016\n",
      "La varianza es igual a: 55822.82326365781\n",
      "La desviacion estandar es igual a: 236.26854057122756\n",
      "La mediana es igual a: 425.0\n"
     ]
    }
   ],
   "source": [
    "# Calcula la media y la varianza de la duración mensual de llamadas.\n",
    "\n",
    "duration_mean = plans_calls[\"minutes\"].mean()\n",
    "variance = np.var(plans_calls[\"minutes\"])\n",
    "standard_deviation = np.sqrt(variance)\n",
    "duration_median = plans_calls[\"minutes\"].median()\n",
    "\n",
    "print(f\"La media es igual a: {duration_mean}\")\n",
    "print(f\"La varianza es igual a: {variance}\")\n",
    "print(f\"La desviacion estandar es igual a: {standard_deviation}\")\n",
    "print(f\"La mediana es igual a: {duration_median}\")\n"
   ]
  },
  {
   "cell_type": "code",
   "execution_count": 69,
   "metadata": {
    "id": "nZzoRUKc0q1K"
   },
   "outputs": [
    {
     "data": {
      "text/plain": [
       "<Axes: ylabel='minutes'>"
      ]
     },
     "execution_count": 69,
     "metadata": {},
     "output_type": "execute_result"
    },
    {
     "data": {
      "image/png": "[encoded data removed]",
      "text/plain": [
       "<Figure size 640x480 with 1 Axes>"
      ]
     },
     "metadata": {},
     "output_type": "display_data"
    }
   ],
   "source": [
    "# Traza un diagrama de caja para visualizar la distribución de la duración mensual de llamadas\n",
    "\n",
    "sns.boxplot(data=plans_calls[\"minutes\"], width=.5)\n"
   ]
  },
  {
   "cell_type": "code",
   "execution_count": 70,
   "metadata": {},
   "outputs": [
    {
     "data": {
      "text/plain": [
       "<Axes: xlabel='month', ylabel='minutes'>"
      ]
     },
     "execution_count": 70,
     "metadata": {},
     "output_type": "execute_result"
    },
    {
     "data": {
      "image/png": "[encoded data removed]",
      "text/plain": [
       "<Figure size 640x480 with 1 Axes>"
      ]
     },
     "metadata": {},
     "output_type": "display_data"
    }
   ],
   "source": [
    "sns.boxplot(data=plans_calls, x=\"month\", y=\"minutes\")"
   ]
  },
  {
   "cell_type": "code",
   "execution_count": 71,
   "metadata": {},
   "outputs": [
    {
     "name": "stdout",
     "output_type": "stream",
     "text": [
      "count    2293.000000\n",
      "mean      429.283471\n",
      "std       236.320077\n",
      "min         0.000000\n",
      "25%       265.000000\n",
      "50%       425.000000\n",
      "75%       572.000000\n",
      "max      1510.000000\n",
      "Name: minutes, dtype: float64\n"
     ]
    }
   ],
   "source": [
    "print(plans_calls[\"minutes\"].describe())"
   ]
  },
  {
   "cell_type": "code",
   "execution_count": 72,
   "metadata": {},
   "outputs": [
    {
     "name": "stdout",
     "output_type": "stream",
     "text": [
      "valores atipicos son numeros mayores a: 1032.5\n",
      "valores atipicos son numeros menores a: -195.5\n"
     ]
    }
   ],
   "source": [
    "Q1 = 265\n",
    "Q2 = 425\n",
    "Q3 = 572\n",
    "\n",
    "IQR = Q3-Q1  # Intervalo intercuartilico\n",
    "\n",
    "print(\"valores atipicos son numeros mayores a:\", Q3 + 1.5*IQR)\n",
    "print(\"valores atipicos son numeros menores a:\", Q1 - 1.5*IQR)\n",
    "\n",
    "\n",
    "\n"
   ]
  },
  {
   "cell_type": "markdown",
   "metadata": {
    "id": "r627zBO50q1K"
   },
   "source": [
    "[Elabora las conclusiones sobre el comportamiento de los usuarios con respecto a las llamadas. ¿Su comportamiento varía en función del plan?]"
   ]
  },
  {
   "cell_type": "markdown",
   "metadata": {},
   "source": [
    "La duracion de las llamadas varia segun el plan, la cantidad de minutos usados es mayor en el plan surf en comparacion con el ultimate. Las personas gastan mas minutos llamando cuando usan el plan surf."
   ]
  },
  {
   "cell_type": "markdown",
   "metadata": {
    "id": "8idKy8Wh0q1L"
   },
   "source": [
    "### Mensajes"
   ]
  },
  {
   "cell_type": "code",
   "execution_count": 73,
   "metadata": {
    "id": "NXLxiTit0q1L"
   },
   "outputs": [
    {
     "data": {
      "image/png": "[encoded data removed]",
      "text/plain": [
       "<Figure size 640x480 with 1 Axes>"
      ]
     },
     "metadata": {},
     "output_type": "display_data"
    }
   ],
   "source": [
    "# Comprara el número de mensajes que tienden a enviar cada mes los usuarios de cada plan\n",
    "\n",
    "plans_calls[plans_calls[\"plan\"]==\"surf\"][\"messages\"].plot(kind=\"hist\",bins=20)\n",
    "plans_calls[plans_calls[\"plan\"]==\"ultimate\"][\"messages\"].plot(kind=\"hist\",bins=20,alpha=0.8)\n",
    "plt.xlabel(\"messages used\")\n",
    "plt.legend([\"surf\",\"ultimate\"])\n",
    "plt.show()\n"
   ]
  },
  {
   "cell_type": "code",
   "execution_count": 74,
   "metadata": {
    "id": "GRI_R7xF0q1L"
   },
   "outputs": [
    {
     "data": {
      "image/png": "[encoded data removed]",
      "text/plain": [
       "<Figure size 640x480 with 1 Axes>"
      ]
     },
     "metadata": {},
     "output_type": "display_data"
    }
   ],
   "source": [
    "# Compara la cantidad de tráfico de Internet consumido por usuarios por plan\n",
    "\n",
    "plans_calls[plans_calls[\"plan\"]==\"surf\"][\"gb_used\"].plot(kind=\"hist\",bins=20)\n",
    "plans_calls[plans_calls[\"plan\"]==\"ultimate\"][\"gb_used\"].plot(kind=\"hist\",bins=20,alpha=0.8)\n",
    "plt.xlabel(\"gb used\")\n",
    "plt.legend([\"surf\",\"ultimate\"])\n",
    "plt.show()"
   ]
  },
  {
   "cell_type": "code",
   "execution_count": 75,
   "metadata": {
    "id": "dtFwCGAp0q1M"
   },
   "outputs": [
    {
     "name": "stdout",
     "output_type": "stream",
     "text": [
      "count    1573.000000\n",
      "mean       16.670693\n",
      "std         7.847522\n",
      "min         0.000000\n",
      "25%        12.000000\n",
      "50%        17.000000\n",
      "75%        21.000000\n",
      "max        70.000000\n",
      "Name: gb_used, dtype: float64\n"
     ]
    }
   ],
   "source": [
    "print(plans_calls[plans_calls[\"plan\"]==\"surf\"][\"gb_used\"].describe())"
   ]
  },
  {
   "cell_type": "code",
   "execution_count": 76,
   "metadata": {},
   "outputs": [
    {
     "name": "stdout",
     "output_type": "stream",
     "text": [
      "count    720.000000\n",
      "mean      17.306944\n",
      "std        7.670108\n",
      "min        0.000000\n",
      "25%       13.000000\n",
      "50%       17.000000\n",
      "75%       21.000000\n",
      "max       46.000000\n",
      "Name: gb_used, dtype: float64\n"
     ]
    }
   ],
   "source": [
    "print(plans_calls[plans_calls[\"plan\"]==\"ultimate\"][\"gb_used\"].describe())"
   ]
  },
  {
   "cell_type": "markdown",
   "metadata": {
    "id": "390SSL480q1M"
   },
   "source": [
    "[Elabora las conclusiones sobre el comportamiento de los usuarios con respecto a los mensajes. ¿Su comportamiento varía en función del plan?]"
   ]
  },
  {
   "cell_type": "markdown",
   "metadata": {},
   "source": [
    "Sin importar el tipo de plan, las personas tienden a enviar de 0 a 10 mensajes con mas frecuencia. La cantidad de mensajes o el mayor flujo de mensajes es para el plan surf. El plan surf prensenta mayor numero de mensajes por usuario."
   ]
  },
  {
   "cell_type": "markdown",
   "metadata": {
    "id": "42YSypXz0q1M"
   },
   "source": [
    "### Internet"
   ]
  },
  {
   "cell_type": "code",
   "execution_count": 77,
   "metadata": {
    "id": "lSuKPtjh0q1M"
   },
   "outputs": [
    {
     "name": "stdout",
     "output_type": "stream",
     "text": [
      "plan     surf  ultimate\n",
      "month                  \n",
      "1        10.0      29.0\n",
      "2       110.0     121.0\n",
      "3       312.0     221.0\n",
      "4       611.0     343.0\n",
      "5      1087.0     489.0\n",
      "6      1502.0     725.0\n",
      "7      2042.0     973.0\n",
      "8      2735.0    1267.0\n",
      "9      3238.0    1463.0\n",
      "10     4126.0    1878.0\n",
      "11     4650.0    2174.0\n",
      "12     5800.0    2778.0\n"
     ]
    }
   ],
   "source": [
    "# Usamos una tabla dinamica para filtrar y agrupar los valores que necesitamos. \n",
    "# Aqui podemos usar pivot_table()\n",
    "\n",
    "internet_trafic = plans_calls.pivot_table(index=\"month\",columns=\"plan\",values=\"gb_used\",aggfunc=\"sum\")\n",
    "print(internet_trafic)"
   ]
  },
  {
   "cell_type": "code",
   "execution_count": 78,
   "metadata": {
    "id": "wnh8jYXi0q1N"
   },
   "outputs": [
    {
     "data": {
      "image/png": "[encoded data removed]",
      "text/plain": [
       "<Figure size 1000x1000 with 1 Axes>"
      ]
     },
     "metadata": {},
     "output_type": "display_data"
    }
   ],
   "source": [
    "\n",
    "internet_trafic.plot(kind=\"bar\", title=\"gb used per month\", ylabel=\"gb used\", figsize=(10,10))\n",
    "plt.show()"
   ]
  },
  {
   "cell_type": "code",
   "execution_count": 80,
   "metadata": {
    "id": "5VlyJ9ry0q1N"
   },
   "outputs": [
    {
     "name": "stdout",
     "output_type": "stream",
     "text": [
      "plan          surf  ultimate\n",
      "plan                        \n",
      "surf      1.000000  0.998901\n",
      "ultimate  0.998901  1.000000\n"
     ]
    }
   ],
   "source": [
    "print(internet_trafic.corr()) # matriz de correlacion"
   ]
  },
  {
   "cell_type": "markdown",
   "metadata": {
    "id": "UN9zwuMP0q1N"
   },
   "source": [
    "[Elabora las conclusiones sobre cómo los usuarios tienden a consumir el tráfico de Internet. ¿Su comportamiento varía en función del plan?]"
   ]
  },
  {
   "cell_type": "markdown",
   "metadata": {},
   "source": [
    "El consumo de internet varia segun el tipo de plan, sim importar el mes vamos que el mayor consumo de internet lo tiene el plan surf. Cada mes el consumo crece gradualmente pero siempre es mayor el de Surf con comparacion al del plan Ultimate."
   ]
  },
  {
   "cell_type": "markdown",
   "metadata": {
    "id": "tCijq3260q1N"
   },
   "source": [
    "## Ingreso"
   ]
  },
  {
   "cell_type": "markdown",
   "metadata": {
    "id": "9nq5IAcy0q1O"
   },
   "source": [
    "[Del mismo modo que has estudiado el comportamiento de los usuarios, describe estadísticamente los ingresos de los planes.]"
   ]
  },
  {
   "cell_type": "markdown",
   "metadata": {},
   "source": [
    "<div class=\"alert alert-block alert-warning\">\n",
    "\n",
    "<b>Comentarios</b> <a class=\"tocSkip\"></a>\n",
    "\n",
    "Cuando hacemos análisis de datos, es muy buena prática eliminar valores atipicos que puedan sesgar nuestros resultados. En este caso elaminar estos valores puedes ser útiles para tener una mejor respuesta de las pruebas de hipóstesis sobre si son iguales o diferentes los ingresos promedios de los usuarios de ambos planes y de los ingresos promedio de los usuarios del área NY-NJ.\n",
    "\n",
    "</div>"
   ]
  },
  {
   "cell_type": "code",
   "execution_count": 82,
   "metadata": {
    "id": "tz-dq_V00q1O"
   },
   "outputs": [
    {
     "name": "stdout",
     "output_type": "stream",
     "text": [
      "plan       surf  ultimate\n",
      "month                    \n",
      "1         40.00     280.0\n",
      "2        309.57     490.0\n",
      "3       1056.65     896.0\n",
      "4       2035.53    1533.0\n",
      "5       3667.37    2051.0\n",
      "6       4779.80    3367.0\n",
      "7       7583.56    4242.0\n",
      "8      10356.85    5173.0\n",
      "9      11304.67    6195.0\n",
      "10     15504.83    7665.0\n",
      "11     16415.21    9107.0\n",
      "12     22437.14   11067.0\n"
     ]
    }
   ],
   "source": [
    "revenue_per_month = plans_calls.pivot_table(index=\"month\",columns=\"plan\",values=\"revenue\",aggfunc=\"sum\")\n",
    "print(revenue_per_month)"
   ]
  },
  {
   "cell_type": "code",
   "execution_count": 83,
   "metadata": {
    "id": "0Y1v8ZUz0q1P"
   },
   "outputs": [
    {
     "data": {
      "image/png": "[encoded data removed]",
      "text/plain": [
       "<Figure size 1000x1000 with 1 Axes>"
      ]
     },
     "metadata": {},
     "output_type": "display_data"
    }
   ],
   "source": [
    "revenue_per_month.plot(kind=\"bar\", title=\"revenue per month\", ylabel=\"revenue(USD)\", figsize=(10,10))\n",
    "plt.show()"
   ]
  },
  {
   "cell_type": "code",
   "execution_count": 84,
   "metadata": {},
   "outputs": [
    {
     "data": {
      "image/png": "[encoded data removed]",
      "text/plain": [
       "<Figure size 640x480 with 1 Axes>"
      ]
     },
     "metadata": {},
     "output_type": "display_data"
    }
   ],
   "source": [
    "plans_calls[plans_calls[\"plan\"]==\"surf\"][\"revenue\"].plot(kind=\"hist\",bins=20)\n",
    "plans_calls[plans_calls[\"plan\"]==\"ultimate\"][\"revenue\"].plot(kind=\"hist\",bins=20,alpha=0.8)\n",
    "plt.xlabel(\"revenue(USD)\")\n",
    "plt.legend([\"surf\",\"ultimate\"])\n",
    "plt.show()"
   ]
  },
  {
   "cell_type": "code",
   "execution_count": 85,
   "metadata": {
    "id": "bYmwxyVh0q1P"
   },
   "outputs": [
    {
     "name": "stdout",
     "output_type": "stream",
     "text": [
      "plan          surf  ultimate\n",
      "plan                        \n",
      "surf      1.000000  0.995508\n",
      "ultimate  0.995508  1.000000\n"
     ]
    }
   ],
   "source": [
    "print(revenue_per_month.corr())"
   ]
  },
  {
   "cell_type": "code",
   "execution_count": 86,
   "metadata": {},
   "outputs": [
    {
     "name": "stdout",
     "output_type": "stream",
     "text": [
      "Total revenue surf plan in USD: 95491.18000000001\n",
      "Total revenue ultimate plan in USD: 52066.0\n"
     ]
    }
   ],
   "source": [
    "print(\"Total revenue surf plan in USD:\",revenue_per_month[\"surf\"].sum())\n",
    "print(\"Total revenue ultimate plan in USD:\",revenue_per_month[\"ultimate\"].sum())"
   ]
  },
  {
   "cell_type": "markdown",
   "metadata": {
    "id": "KAFidcXZ0q1P"
   },
   "source": [
    "[Elabora las conclusiones sobre cómo difiere el ingreso entre los planes.]"
   ]
  },
  {
   "cell_type": "markdown",
   "metadata": {},
   "source": [
    "En este caso, los ingresos del plan Surf son mayores a los del plan Ultimate. Los ingresos son casi el doble si sumamos el ingreso que genera cada plan mensualmente. Los ingresos difieren dependiendo del plan. Curiosamente, los usuarios tienden a usar mas el plan Surf pero a largo plazo terminan pagando muchos mas dinero."
   ]
  },
  {
   "cell_type": "markdown",
   "metadata": {
    "id": "ajJ7VKeI0q1Q"
   },
   "source": [
    "## Prueba las hipótesis estadísticas"
   ]
  },
  {
   "cell_type": "markdown",
   "metadata": {
    "id": "AdXAZ-yL0q1Q"
   },
   "source": [
    "[Prueba la hipótesis de que son diferentes los ingresos promedio procedentes de los usuarios de los planes de llamada Ultimate y Surf.]"
   ]
  },
  {
   "cell_type": "markdown",
   "metadata": {
    "id": "IQwa_hsh0q1Q"
   },
   "source": [
    "[Elabora las hipótesis nula y alternativa, escoge la prueba estadística, determina el valor alfa.]"
   ]
  },
  {
   "cell_type": "markdown",
   "metadata": {},
   "source": [
    " <div class=\"alert alert-block alert-warning\">\n",
    "<b>Comentarios</b> <a class=\"tocSkip\"></a>\n",
    "\n",
    "Para estra pruebas se recomienda hacer una prueba de  Levene  para mostrar si las varianzas son iguales y agregarlo dentro de la función. Actualmente lo colocar como equal_var=False. Para esto, primero debes calcular las varianzas para cada uno de los planes y en un segundo tiempo debes de hacer uso de la siguiente función: \n",
    "    \n",
    "    levene(surf_filtered['monthly_income'], ultimate_filtered['monthly_income'])\n",
    "    \n",
    "Adoptaremos un nivel de significancia de 0.05; si el valor p resultante es mayor a 0.05, aceptaremos la hipótesis nula, y si es menor a 0.05, aceptaremos la hipótesis alternativa, indicando que las varianzas no son iguales.    \n",
    "</div>\n",
    "\n"
   ]
  },
  {
   "cell_type": "code",
   "execution_count": 87,
   "metadata": {
    "id": "nFoPNlPq0q1R"
   },
   "outputs": [
    {
     "name": "stdout",
     "output_type": "stream",
     "text": [
      "3065.8848438690247\n",
      "129.66814043209877\n"
     ]
    }
   ],
   "source": [
    "# Prueba las hipótesis\n",
    "\n",
    "# Hipotesis nula = Los ingresos premedios de los planes de llamandas son iguales\n",
    "# Hipetesis alternativa = Los ingresos promedios de los planes de llamandas son diferentes\n",
    "\n",
    "revenue_surf = plans_calls[plans_calls[\"plan\"]==\"surf\"][\"revenue\"]\n",
    "variance_surf = np.var(revenue_surf)\n",
    "revenue_ultimate = plans_calls[plans_calls[\"plan\"]==\"ultimate\"][\"revenue\"]\n",
    "variance_ultimate = np.var(revenue_ultimate)\n",
    "print(variance_surf)\n",
    "print(variance_ultimate)\n"
   ]
  },
  {
   "cell_type": "code",
   "execution_count": 88,
   "metadata": {},
   "outputs": [
    {
     "name": "stdout",
     "output_type": "stream",
     "text": [
      "valor p: 3.170390548113711e-15\n",
      "Rechazamos la hipotesis nula\n"
     ]
    }
   ],
   "source": [
    "alpha = 0.05 # nivel crítico de significación estadística\n",
    "\n",
    "results = st.ttest_ind(revenue_ultimate, revenue_surf, equal_var=False)\n",
    "\n",
    "print(\"valor p:\", results.pvalue)\n",
    "\n",
    "if results.pvalue < alpha:   # compara el valor p con la significación estadística\n",
    "    print(\"Rechazamos la hipotesis nula\")\n",
    "else:\n",
    "    print(\"No podemos rechazar la hipotesis nula\")"
   ]
  },
  {
   "cell_type": "markdown",
   "metadata": {},
   "source": [
    "Nuestro analisis sugiere que el comportamiento de los usuarios difiere dependiendo del plan que se este usando. Parece que los usuarios del plan Surf tienden a gastar mas en comparacion con el plan Ultimate y por esta razon el ingreso promedio del plan Surf es mucho mayor en comparacion al plan Ultimate. El ingreso promedio depende del plan que el usuario tenga. Es mas conveniente hacer publicidad al plan Surf ya que este plan es el que mas ingresos proporciona por usuarios. "
   ]
  },
  {
   "cell_type": "markdown",
   "metadata": {
    "id": "tCcAruM60q1R"
   },
   "source": [
    "[Prueba la hipótesis de que el ingreso promedio de los usuarios del área NY-NJ es diferente al de los usuarios de otras regiones.]"
   ]
  },
  {
   "cell_type": "markdown",
   "metadata": {
    "id": "LsBgitqj0q1R"
   },
   "source": [
    "[Elabora las hipótesis nula y alternativa, escoge la prueba estadística, determina el valor alfa.]"
   ]
  },
  {
   "cell_type": "code",
   "execution_count": 89,
   "metadata": {
    "id": "Cqcj7wrZ0q1S"
   },
   "outputs": [
    {
     "name": "stdout",
     "output_type": "stream",
     "text": [
      "city\n",
      "new york-newark-jersey city, ny-nj-pa msa          377\n",
      "los angeles-long beach-anaheim, ca msa             132\n",
      "chicago-naperville-elgin, il-in-wi msa              94\n",
      "dallas-fort worth-arlington, tx msa                 88\n",
      "philadelphia-camden-wilmington, pa-nj-de-md msa     82\n",
      "                                                  ... \n",
      "omaha-council bluffs, ne-ia msa                      3\n",
      "jacksonville, fl msa                                 2\n",
      "el paso, tx msa                                      2\n",
      "raleigh-cary, nc msa                                 2\n",
      "cape coral-fort myers, fl msa                        1\n",
      "Name: count, Length: 73, dtype: int64\n",
      "\n",
      "['philadelphia-camden-wilmington, pa-nj-de-md msa'\n",
      " 'charlotte-concord-gastonia, nc-sc msa'\n",
      " 'louisville/jefferson county, ky-in msa'\n",
      " 'los angeles-long beach-anaheim, ca msa'\n",
      " 'san francisco-oakland-berkeley, ca msa' 'denver-aurora-lakewood, co msa'\n",
      " 'new york-newark-jersey city, ny-nj-pa msa'\n",
      " 'riverside-san bernardino-ontario, ca msa'\n",
      " 'miami-fort lauderdale-west palm beach, fl msa'\n",
      " 'boston-cambridge-newton, ma-nh msa'\n",
      " 'tampa-st. petersburg-clearwater, fl msa' 'kansas city, mo-ks msa'\n",
      " 'colorado springs, co msa' 'baltimore-columbia-towson, md msa'\n",
      " 'dallas-fort worth-arlington, tx msa'\n",
      " 'las vegas-henderson-paradise, nv msa'\n",
      " 'san antonio-new braunfels, tx msa' 'fresno, ca msa'\n",
      " 'seattle-tacoma-bellevue, wa msa'\n",
      " 'washington-arlington-alexandria, dc-va-md-wv msa'\n",
      " 'san diego-chula vista-carlsbad, ca msa' 'phoenix-mesa-chandler, az msa'\n",
      " 'chicago-naperville-elgin, il-in-wi msa' 'columbia, sc msa'\n",
      " 'memphis, tn-ms-ar msa' 'albuquerque, nm msa'\n",
      " 'portland-vancouver-hillsboro, or-wa msa'\n",
      " 'austin-round rock-georgetown, tx msa' 'cincinnati, oh-ky-in msa'\n",
      " 'minneapolis-st. paul-bloomington, mn-wi msa'\n",
      " 'indianapolis-carmel-anderson, in msa' 'tucson, az msa'\n",
      " 'atlanta-sandy springs-roswell, ga msa' 'grand rapids-kentwood, mi msa'\n",
      " 'san jose-sunnyvale-santa clara, ca msa' 'urban honolulu, hi msa'\n",
      " 'cleveland-elyria, oh msa' 'st. louis, mo-il msa' 'tulsa, ok msa'\n",
      " 'north port-sarasota-bradenton, fl msa' 'baton rouge, la msa'\n",
      " 'pittsburgh, pa msa' 'nashville-davidson–murfreesboro–franklin, tn msa'\n",
      " 'columbus, oh msa' 'knoxville, tn msa'\n",
      " 'bridgeport-stamford-norwalk, ct msa' 'oklahoma city, ok msa'\n",
      " 'detroit-warren-dearborn, mi msa' 'birmingham-hoover, al msa'\n",
      " 'omaha-council bluffs, ne-ia msa'\n",
      " 'houston-the woodlands-sugar land, tx msa' 'buffalo-cheektowaga, ny msa'\n",
      " 'providence-warwick, ri-ma msa' 'greensboro-high point, nc msa'\n",
      " 'charleston-north charleston, sc msa' 'rochester, ny msa'\n",
      " 'sacramento–roseville–folsom, ca msa' 'albany-schenectady-troy, ny msa'\n",
      " 'new orleans-metairie, la msa' 'salt lake city, ut msa'\n",
      " 'richmond, va msa' 'new haven-milford, ct msa' 'bakersfield, ca msa'\n",
      " 'oxnard-thousand oaks-ventura, ca msa' 'dayton-kettering, oh msa'\n",
      " 'milwaukee-waukesha, wi msa' 'stockton, ca msa'\n",
      " 'orlando-kissimmee-sanford, fl msa' 'jacksonville, fl msa'\n",
      " 'el paso, tx msa' 'virginia beach-norfolk-newport news, va-nc msa'\n",
      " 'raleigh-cary, nc msa' 'cape coral-fort myers, fl msa']\n"
     ]
    }
   ],
   "source": [
    "# Prueba las hipótesis\n",
    "\n",
    "# Hipotesis nula = Los ingresos premedios del area NY-NJ y las otras regiones son iguales\n",
    "# Hipetesis alternativa = Los ingresos promedios del area NY-NJ y las otras regiones son diferentes\n",
    "\n",
    "print(plans_calls[\"city\"].value_counts())\n",
    "print()\n",
    "print(plans_calls[\"city\"].unique())"
   ]
  },
  {
   "cell_type": "code",
   "execution_count": 90,
   "metadata": {},
   "outputs": [
    {
     "name": "stdout",
     "output_type": "stream",
     "text": [
      "1890.5177172681153\n",
      "2223.8866958162175\n"
     ]
    }
   ],
   "source": [
    "NY_NJ_revenue = plans_calls[plans_calls[\"city\"].isin([\"new york-newark-jersey city, ny-nj-pa msa\"])][\"revenue\"]\n",
    "other_area_revenue = plans_calls[~(plans_calls[\"city\"].isin([\"new york-newark-jersey city, ny-nj-pa msa\"]))][\"revenue\"]\n",
    "\n",
    "variance_NY_NJ_revenue = np.var(NY_NJ_revenue)\n",
    "variance_other_area_revenue = np.var(other_area_revenue)\n",
    "print(variance_NY_NJ_revenue)\n",
    "print(variance_other_area_revenue)\n"
   ]
  },
  {
   "cell_type": "code",
   "execution_count": 91,
   "metadata": {},
   "outputs": [
    {
     "name": "stdout",
     "output_type": "stream",
     "text": [
      "valor p: 0.03352561588530056\n",
      "Rechazamos la hipotesis nula\n"
     ]
    }
   ],
   "source": [
    "alpha = 0.05 # nivel crítico de significación estadística\n",
    "\n",
    "results_city = st.ttest_ind(NY_NJ_revenue, other_area_revenue, equal_var=False)\n",
    "\n",
    "print(\"valor p:\", results_city.pvalue)\n",
    "\n",
    "if results_city.pvalue < alpha:\n",
    "    print(\"Rechazamos la hipotesis nula\")\n",
    "else:\n",
    "    print(\"No podemos rechazar la hipotesis nula\")"
   ]
  },
  {
   "cell_type": "markdown",
   "metadata": {},
   "source": [
    "En este caso podemos decir que el ingreso promedio del area NY-NJ varia y hay una diferencia significativa con respecto a los ingresos de las otras regiones. Aunque en este caso, la diferencia del ingreso promedio es mucho mas pequeña pero aun asi la diferencia sigue siendo significativa para nivel crítico de significación estadística 0.05"
   ]
  },
  {
   "cell_type": "markdown",
   "metadata": {
    "id": "bbTR8UQO0q1T"
   },
   "source": [
    "# Conclusión general\n",
    "\n",
    "[En esta sección final, enumera tus conclusiones importantes. Asegúrate de que estas abarquen todas las decisiones (suposiciones) importantes que adoptaste y que determinaron la forma elegida para procesar y analizar los datos.]"
   ]
  },
  {
   "cell_type": "markdown",
   "metadata": {},
   "source": [
    "Podemos concluir que el plan y las tarifas de Surf es la que mas genera ingresos en comparacion al plan Ultimate. El plan Surf representa mas cantidad de minutos y trafico de internet por usuario lo que genera una cantidad considerable de ingreso por cada mes. Parece que los usuarios tienden a gastar la misma cantidad de minutos sin importar el plan pero hay mas cantidad de minutos por usuario en el plan Surf en comparacion al plan Ultimate, lo que indica que los usuarios prefieren usar el plan mas economico en la tarifas de minutos ya que terminan pagando menos por los mismos minutos, igualmente esto hace que se genere una cantidad considerable de ingresos especialmente en el consumo de internet. Si hablamos de compensar la diferencia podemos hacerle publicidad al plan Ultimate en mayor proporcion que el plan Surf. Debemos hacer un ajuste de inversion mayor en el plan de Ultimate para tener ingresos altos en ambos planes en caso de que sea posible y asi poder ajustar el presupuesto de publicidad. Tambien puede ser que es mas conveniente hacer publicidad al plan Surf ya que este plan es el que mas ingresos proporciona por usuarios."
   ]
  }
 ],
 "metadata": {
  "ExecuteTimeLog": [
   {
    "duration": 828,
    "start_time": "2021-11-16T09:21:11.304Z"
   },
   {
    "duration": 893,
    "start_time": "2021-11-16T09:21:17.728Z"
   },
   {
    "duration": 1150,
    "start_time": "2021-11-16T09:21:29.568Z"
   },
   {
    "duration": 3,
    "start_time": "2021-11-16T09:24:14.495Z"
   },
   {
    "duration": 120,
    "start_time": "2021-11-16T09:24:46.630Z"
   },
   {
    "duration": 3,
    "start_time": "2021-11-16T09:28:27.882Z"
   },
   {
    "duration": 4,
    "start_time": "2021-11-16T09:29:54.281Z"
   },
   {
    "duration": 3,
    "start_time": "2021-11-16T09:30:45.936Z"
   },
   {
    "duration": 4,
    "start_time": "2021-11-16T09:31:06.300Z"
   },
   {
    "duration": 113,
    "start_time": "2021-11-16T09:31:37.208Z"
   },
   {
    "duration": 143,
    "start_time": "2021-11-16T09:31:48.656Z"
   },
   {
    "duration": 98,
    "start_time": "2021-11-16T09:31:55.678Z"
   },
   {
    "duration": 3,
    "start_time": "2021-11-16T09:32:08.535Z"
   },
   {
    "duration": 111,
    "start_time": "2021-11-16T09:32:10.120Z"
   },
   {
    "duration": 3,
    "start_time": "2021-11-16T09:32:15.732Z"
   },
   {
    "duration": 4,
    "start_time": "2021-11-16T09:32:29.423Z"
   },
   {
    "duration": 3,
    "start_time": "2021-11-16T10:03:03.074Z"
   },
   {
    "duration": 3,
    "start_time": "2021-11-16T10:10:01.288Z"
   },
   {
    "duration": 3,
    "start_time": "2021-11-16T10:10:46.923Z"
   },
   {
    "duration": 121,
    "start_time": "2021-11-16T10:37:46.494Z"
   },
   {
    "duration": 125,
    "start_time": "2021-11-16T10:38:20.632Z"
   },
   {
    "duration": 112,
    "start_time": "2021-11-16T10:46:53.001Z"
   },
   {
    "duration": 110,
    "start_time": "2021-11-16T10:48:25.775Z"
   },
   {
    "duration": 3,
    "start_time": "2021-11-16T10:50:18.720Z"
   },
   {
    "duration": 4,
    "start_time": "2021-11-16T10:50:37.649Z"
   },
   {
    "duration": 2,
    "start_time": "2021-11-16T10:50:51.884Z"
   },
   {
    "duration": 3,
    "start_time": "2021-11-16T10:51:56.237Z"
   },
   {
    "duration": 101,
    "start_time": "2021-11-16T10:53:13.791Z"
   },
   {
    "duration": 3,
    "start_time": "2021-11-16T10:55:59.186Z"
   },
   {
    "duration": 3,
    "start_time": "2021-11-16T10:56:10.751Z"
   },
   {
    "duration": 3,
    "start_time": "2021-11-16T10:56:49.038Z"
   },
   {
    "duration": 3,
    "start_time": "2021-11-16T10:56:49.174Z"
   },
   {
    "duration": 4,
    "start_time": "2021-11-16T10:56:49.414Z"
   },
   {
    "duration": 3,
    "start_time": "2021-11-16T10:56:49.680Z"
   },
   {
    "duration": 3,
    "start_time": "2021-11-16T10:56:50.370Z"
   },
   {
    "duration": 114,
    "start_time": "2021-11-16T10:59:34.518Z"
   },
   {
    "duration": 3,
    "start_time": "2021-11-16T11:01:41.201Z"
   },
   {
    "duration": 116,
    "start_time": "2021-11-16T11:01:48.754Z"
   },
   {
    "duration": 3,
    "start_time": "2021-11-16T11:02:16.685Z"
   },
   {
    "duration": 3,
    "start_time": "2021-11-16T11:02:19.479Z"
   },
   {
    "duration": 3,
    "start_time": "2021-11-16T11:02:47.067Z"
   },
   {
    "duration": 3,
    "start_time": "2021-11-16T11:02:49.353Z"
   },
   {
    "duration": 3,
    "start_time": "2021-11-16T11:03:07.835Z"
   },
   {
    "duration": 3,
    "start_time": "2021-11-16T11:03:07.953Z"
   },
   {
    "duration": 112,
    "start_time": "2021-11-16T11:07:52.072Z"
   },
   {
    "duration": 187,
    "start_time": "2021-11-16T11:09:23.468Z"
   },
   {
    "duration": 4,
    "start_time": "2021-11-16T11:10:01.455Z"
   },
   {
    "duration": 3,
    "start_time": "2021-11-16T11:10:05.069Z"
   },
   {
    "duration": 4,
    "start_time": "2021-11-16T11:10:13.376Z"
   },
   {
    "duration": 3,
    "start_time": "2021-11-16T11:10:14.434Z"
   },
   {
    "duration": 3,
    "start_time": "2021-11-16T11:10:22.853Z"
   },
   {
    "duration": 4,
    "start_time": "2021-11-16T11:27:29.279Z"
   },
   {
    "duration": 4,
    "start_time": "2021-11-16T11:29:08.919Z"
   },
   {
    "duration": 118,
    "start_time": "2021-11-16T11:29:46.703Z"
   },
   {
    "duration": 437,
    "start_time": "2021-11-16T11:36:02.181Z"
   },
   {
    "duration": 157,
    "start_time": "2021-11-16T11:36:14.388Z"
   },
   {
    "duration": 207,
    "start_time": "2021-11-16T11:47:15.898Z"
   },
   {
    "duration": 3,
    "start_time": "2021-11-16T11:53:52.092Z"
   },
   {
    "duration": 3,
    "start_time": "2021-11-16T11:53:52.236Z"
   },
   {
    "duration": 3,
    "start_time": "2021-11-16T11:59:12.005Z"
   },
   {
    "duration": 112,
    "start_time": "2021-11-16T12:00:33.446Z"
   },
   {
    "duration": 3,
    "start_time": "2021-11-16T12:02:14.453Z"
   },
   {
    "duration": 3,
    "start_time": "2021-11-16T12:02:39.512Z"
   },
   {
    "duration": 106,
    "start_time": "2021-11-16T12:03:03.460Z"
   },
   {
    "duration": 3,
    "start_time": "2021-11-17T20:37:21.139Z"
   },
   {
    "duration": 3,
    "start_time": "2021-11-17T20:37:22.229Z"
   },
   {
    "duration": 3,
    "start_time": "2021-11-17T20:38:38.806Z"
   },
   {
    "duration": 3,
    "start_time": "2021-11-17T20:38:41.958Z"
   },
   {
    "duration": 3,
    "start_time": "2021-11-17T20:43:46.551Z"
   },
   {
    "duration": 4,
    "start_time": "2021-11-17T20:58:21.835Z"
   },
   {
    "duration": 3,
    "start_time": "2021-11-17T20:59:21.872Z"
   },
   {
    "duration": 4,
    "start_time": "2021-11-17T20:59:45.352Z"
   },
   {
    "duration": 4,
    "start_time": "2021-11-17T20:59:49.646Z"
   },
   {
    "duration": 159,
    "start_time": "2021-11-17T21:02:26.949Z"
   },
   {
    "duration": 3,
    "start_time": "2021-11-17T21:03:53.461Z"
   },
   {
    "duration": 3,
    "start_time": "2021-11-17T21:03:53.694Z"
   },
   {
    "duration": 3,
    "start_time": "2021-11-17T21:05:28.145Z"
   },
   {
    "duration": 116,
    "start_time": "2021-11-17T21:05:57.787Z"
   },
   {
    "duration": 3,
    "start_time": "2021-11-17T21:06:37.993Z"
   },
   {
    "duration": 3,
    "start_time": "2021-11-17T21:06:38.261Z"
   },
   {
    "duration": 3,
    "start_time": "2021-11-17T21:11:54.358Z"
   },
   {
    "duration": 3,
    "start_time": "2021-11-17T21:12:43.846Z"
   },
   {
    "duration": 4,
    "start_time": "2021-11-17T21:13:08.773Z"
   },
   {
    "duration": 3,
    "start_time": "2021-11-17T21:14:44.441Z"
   },
   {
    "duration": 3,
    "start_time": "2021-11-17T21:15:42.059Z"
   },
   {
    "duration": 4,
    "start_time": "2021-11-17T21:15:51.995Z"
   },
   {
    "duration": 3,
    "start_time": "2021-11-17T21:15:53.923Z"
   },
   {
    "duration": 3,
    "start_time": "2021-11-17T21:15:55.282Z"
   },
   {
    "duration": 3,
    "start_time": "2021-11-17T21:16:28.492Z"
   },
   {
    "duration": 3,
    "start_time": "2021-11-17T21:16:32.603Z"
   },
   {
    "duration": 3,
    "start_time": "2021-11-17T21:17:06.941Z"
   },
   {
    "duration": 98,
    "start_time": "2021-11-17T21:18:05.733Z"
   },
   {
    "duration": 4,
    "start_time": "2021-11-17T21:21:35.255Z"
   },
   {
    "duration": 3,
    "start_time": "2021-11-17T21:21:37.804Z"
   },
   {
    "duration": 4,
    "start_time": "2021-11-17T21:23:06.071Z"
   },
   {
    "duration": 3,
    "start_time": "2021-11-17T21:23:24.799Z"
   },
   {
    "duration": 3,
    "start_time": "2021-11-17T21:23:32.591Z"
   },
   {
    "duration": 98,
    "start_time": "2021-11-17T21:28:31.559Z"
   },
   {
    "duration": 3,
    "start_time": "2021-11-17T21:28:45.448Z"
   },
   {
    "duration": 3,
    "start_time": "2021-11-17T21:29:17.303Z"
   },
   {
    "duration": 3,
    "start_time": "2021-11-17T21:29:29.617Z"
   },
   {
    "duration": 3,
    "start_time": "2021-11-17T21:29:32.681Z"
   },
   {
    "duration": 3,
    "start_time": "2021-11-17T21:36:11.474Z"
   },
   {
    "duration": 3,
    "start_time": "2021-11-17T21:36:14.791Z"
   },
   {
    "duration": 3,
    "start_time": "2021-11-17T21:36:53.943Z"
   },
   {
    "duration": 3,
    "start_time": "2021-11-17T21:36:56.165Z"
   },
   {
    "duration": 4,
    "start_time": "2021-11-17T21:37:16.590Z"
   },
   {
    "duration": 3,
    "start_time": "2021-11-17T21:37:22.702Z"
   },
   {
    "duration": 4,
    "start_time": "2021-11-17T21:38:03.479Z"
   },
   {
    "duration": 3,
    "start_time": "2021-11-17T21:38:08.601Z"
   },
   {
    "duration": 3,
    "start_time": "2021-11-17T21:38:12.928Z"
   },
   {
    "duration": 3,
    "start_time": "2021-11-17T21:38:48.896Z"
   },
   {
    "duration": 2,
    "start_time": "2021-11-17T21:38:49.171Z"
   },
   {
    "duration": 4,
    "start_time": "2021-11-17T21:39:57.889Z"
   },
   {
    "duration": 3,
    "start_time": "2021-11-17T21:39:58.057Z"
   },
   {
    "duration": 3,
    "start_time": "2021-11-17T21:41:20.108Z"
   },
   {
    "duration": 3,
    "start_time": "2021-11-17T21:41:20.629Z"
   },
   {
    "duration": 3,
    "start_time": "2021-11-17T21:42:49.136Z"
   },
   {
    "duration": 3,
    "start_time": "2021-11-17T21:43:15.137Z"
   },
   {
    "duration": 4,
    "start_time": "2021-11-17T21:43:16.766Z"
   },
   {
    "duration": 4,
    "start_time": "2021-11-17T21:43:31.711Z"
   },
   {
    "duration": 3,
    "start_time": "2021-11-17T21:43:36.312Z"
   },
   {
    "duration": 4,
    "start_time": "2021-11-17T21:45:08.825Z"
   },
   {
    "duration": 4,
    "start_time": "2021-11-17T21:45:10.119Z"
   },
   {
    "duration": 4,
    "start_time": "2021-11-17T21:45:13.748Z"
   },
   {
    "duration": 3,
    "start_time": "2021-11-17T21:45:22.219Z"
   },
   {
    "duration": 3,
    "start_time": "2021-11-17T21:45:33.412Z"
   },
   {
    "duration": 2,
    "start_time": "2021-11-17T21:46:01.885Z"
   },
   {
    "duration": 3,
    "start_time": "2021-11-17T21:46:03.628Z"
   },
   {
    "duration": 107,
    "start_time": "2021-11-17T21:47:32.512Z"
   },
   {
    "duration": 103,
    "start_time": "2021-11-17T21:50:36.243Z"
   },
   {
    "duration": 3,
    "start_time": "2021-11-18T06:28:31.440Z"
   },
   {
    "duration": 3,
    "start_time": "2021-11-18T06:29:00.168Z"
   },
   {
    "duration": 3,
    "start_time": "2021-11-18T06:31:27.008Z"
   },
   {
    "duration": 2,
    "start_time": "2021-11-18T06:35:34.288Z"
   },
   {
    "duration": 2,
    "start_time": "2021-11-18T06:38:04.527Z"
   }
  ],
  "colab": {
   "provenance": []
  },
  "kernelspec": {
   "display_name": "Python 3 (ipykernel)",
   "language": "python",
   "name": "python3"
  },
  "language_info": {
   "codemirror_mode": {
    "name": "ipython",
    "version": 3
   },
   "file_extension": ".py",
   "mimetype": "text/x-python",
   "name": "python",
   "nbconvert_exporter": "python",
   "pygments_lexer": "ipython3",
   "version": "3.12.5"
  },
  "toc": {
   "base_numbering": 1,
   "nav_menu": {},
   "number_sections": true,
   "sideBar": true,
   "skip_h1_title": false,
   "title_cell": "Table of Contents",
   "title_sidebar": "Contents",
   "toc_cell": false,
   "toc_position": {},
   "toc_section_display": true,
   "toc_window_display": true
  }
 },
 "nbformat": 4,
 "nbformat_minor": 1
}
